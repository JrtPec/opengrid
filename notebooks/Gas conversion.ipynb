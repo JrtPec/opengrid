{
 "cells": [
  {
   "cell_type": "code",
   "execution_count": null,
   "metadata": {
    "collapsed": true
   },
   "outputs": [],
   "source": [
    "import requests\n",
    "import datetime as dt\n",
    "import pytz\n",
    "import pandas as pd\n",
    "import pytz\n",
    "from dateutil import rrule"
   ]
  },
  {
   "cell_type": "code",
   "execution_count": null,
   "metadata": {
    "collapsed": true
   },
   "outputs": [],
   "source": [
    "def fetch_ediel(date):\n",
    "    \"\"\"\n",
    "    Indexis has gas caloric values per GOS in an EDIEL file per month. This method fetches such a file.\n",
    "        \n",
    "    Parameters\n",
    "    ----------\n",
    "    date\n",
    "    \n",
    "    Returns\n",
    "    -------\n",
    "    file\n",
    "    \"\"\"\n",
    "    \n",
    "    url = 'https://www.indexis.be/allocationWeb/cbw/download.action?year={}&month={}'.format(date.year, date.month)\n",
    "    r = requests.get(url, verify=False)\n",
    "    if r.status_code == 200:\n",
    "        return r.text\n",
    "    else:\n",
    "        raise requests.HTTPError(r.status_code)"
   ]
  },
  {
   "cell_type": "code",
   "execution_count": null,
   "metadata": {
    "collapsed": true
   },
   "outputs": [],
   "source": [
    "class Ediel(object):\n",
    "    def __init__(self, text):\n",
    "        # read CSV file and save raw line per line\n",
    "        lines = text.splitlines()\n",
    "        self.raw = [line.split(';') for line in lines]\n",
    "\n",
    "        try:\n",
    "            self._parse_raw()\n",
    "        except UnboundLocalError: # Expected arguments in Ediel message are not found.\n",
    "            raise ValueError('Ediel message was not in expected format')\n",
    "        \n",
    "        data = [self._clean_content(line) for line in self.body_raw]\n",
    "        df = pd.DataFrame(data, columns=['date', 'EAN', 'GOS', 'CBW'])\n",
    "        df.date = [dt.datetime(year=int(d[2:6]), month=int(d[0:2]), day=1) for d in df.date]\n",
    "        df = df.set_index('date')\n",
    "        df = df.tz_localize('Europe/Brussels')\n",
    "        df.CBW = [float(s.replace(',', '.')) for s in df.CBW]\n",
    "        self.df = df\n",
    "\n",
    "    def get_attributes(self):\n",
    "        \"\"\"\n",
    "        Returns a list with attributes that have been assigned to the object\n",
    "\n",
    "        Returns\n",
    "        -------\n",
    "        list\n",
    "        \"\"\"\n",
    "        # return only attributes that don't start with '_'\n",
    "        return [attr for attr in dir(self) if not attr.startswith('_')]\n",
    "\n",
    "    def _parse_raw(self):\n",
    "        \"\"\"\n",
    "        Parse self.raw into attributes\n",
    "        \"\"\"\n",
    "        for line_number, line in enumerate(self.raw):\n",
    "            if not line[0].startswith('['):\n",
    "                continue\n",
    "\n",
    "            property_name = self._clean_name(line[0])\n",
    "\n",
    "            if property_name == 'body_start':\n",
    "                body_start_line = line_number + 1\n",
    "                continue\n",
    "            elif property_name == 'body_end':\n",
    "                continue\n",
    "\n",
    "            content = self._clean_content(line[1:])\n",
    "            if content is None:\n",
    "                continue\n",
    "\n",
    "            self.__setattr__(property_name, content)\n",
    "\n",
    "        body = self.raw[body_start_line: body_start_line+int(self.number_of_lines_in_body)]\n",
    "        self.__setattr__('body_raw', body)\n",
    "\n",
    "    @staticmethod\n",
    "    def _clean_name(name):\n",
    "        \"\"\"\n",
    "        Make attribute names more pythonic by removing square brackets, capital letters and periods,\n",
    "        replacing spaces by underscores\n",
    "\n",
    "        Parameters\n",
    "        ----------\n",
    "        name : String\n",
    "\n",
    "        Returns\n",
    "        -------\n",
    "        String\n",
    "        \"\"\"\n",
    "        return name[1:-1].lower().replace(\" \", \"_\").replace(\".\", \"\")\n",
    "\n",
    "    @staticmethod\n",
    "    def _clean_content(content):\n",
    "        # get rid of the trailing empty string\n",
    "        if content[-1] == '':\n",
    "            res = content[:-1]\n",
    "        else:\n",
    "            res = content\n",
    "\n",
    "        if len(res) == 1:\n",
    "            res = res[0] if res[0] != '' else None\n",
    "        elif len(res) == 0:\n",
    "            res = None\n",
    "        return res"
   ]
  },
  {
   "cell_type": "code",
   "execution_count": null,
   "metadata": {
    "collapsed": false
   },
   "outputs": [],
   "source": [
    "def monthset(start, end):\n",
    "    \"\"\"\n",
    "        Takes a start and end date and returns a set containing all months between start and end\n",
    "\n",
    "        Parameters\n",
    "        ----------\n",
    "        start : datetime-like object\n",
    "        end : datetime-like object\n",
    "\n",
    "        Returns\n",
    "        -------\n",
    "        set of datetime objects\n",
    "    \"\"\"\n",
    "\n",
    "    res = []\n",
    "    for day in rrule.rrule(rrule.MONTHLY, dtstart=start, until=end):\n",
    "        res.append(day)\n",
    "    return set(res)"
   ]
  },
  {
   "cell_type": "code",
   "execution_count": null,
   "metadata": {
    "collapsed": true
   },
   "outputs": [],
   "source": [
    "def fetch_cbw(start, end):\n",
    "    \"\"\"\n",
    "    Fetches, caches and returns CBW data as a Pandas DataFrame\n",
    "    Since it is historical data, we cache and append, so we don't have to do too much external calls\n",
    "    \n",
    "    Parameters\n",
    "    ---------\n",
    "    start : dt.date\n",
    "    end : dt.date\n",
    "    \n",
    "    Returns\n",
    "    -------\n",
    "    Pandas DataFrame\n",
    "    \"\"\"\n",
    "    # we create a set of all months that we want\n",
    "    months = monthset(start=start, end=end)\n",
    "    months = set(pd.DatetimeIndex(months).tz_localize('Europe/Brussels'))\n",
    "\n",
    "    # we try to load the cached version of the cbw data\n",
    "    cache_name = 'cbw_cache.pkl'\n",
    "    try:\n",
    "        cached = pd.read_pickle(cache_name)\n",
    "    except:\n",
    "        cached = pd.DataFrame()\n",
    "        cached_months = set()\n",
    "    else:\n",
    "        # we make a set of all months that are already in the cached version\n",
    "        cached_months = set(cached.truncate(before=start, after=end).index)\n",
    "    \n",
    "    # we take the difference of both sets, now we know if there is new data we need to fetch\n",
    "    to_fetch = months.difference(cached_months)\n",
    "    \n",
    "    # we fetch new data and append to the cached data\n",
    "    if len(to_fetch) > 0:\n",
    "        for date in to_fetch:\n",
    "            try:\n",
    "                ediel = Ediel(text=fetch_ediel(date=date))\n",
    "            except ValueError: # No valid Ediel message found\n",
    "                print('No valid CBW data fetched for date {}'.format(date))\n",
    "            else:\n",
    "                cached = cached.append(ediel.df)\n",
    "        cached = cached.sort_index()\n",
    "        # save the updated file\n",
    "        cached.to_pickle(cache_name)\n",
    "        \n",
    "    return cached.truncate(before=start, after=end)"
   ]
  },
  {
   "cell_type": "code",
   "execution_count": null,
   "metadata": {
    "collapsed": true
   },
   "outputs": [],
   "source": [
    "start=dt.datetime(year=2015, month=1, day=1)\n",
    "end=dt.datetime(year=2016, month=4, day=1)"
   ]
  },
  {
   "cell_type": "code",
   "execution_count": null,
   "metadata": {
    "collapsed": false,
    "scrolled": false
   },
   "outputs": [],
   "source": [
    "df = fetch_cbw(start=start, end=end)"
   ]
  },
  {
   "cell_type": "code",
   "execution_count": null,
   "metadata": {
    "collapsed": true
   },
   "outputs": [],
   "source": []
  }
 ],
 "metadata": {
  "kernelspec": {
   "display_name": "Python 3",
   "language": "python",
   "name": "python3"
  },
  "language_info": {
   "codemirror_mode": {
    "name": "ipython",
    "version": 3
   },
   "file_extension": ".py",
   "mimetype": "text/x-python",
   "name": "python",
   "nbconvert_exporter": "python",
   "pygments_lexer": "ipython3",
   "version": "3.5.0"
  }
 },
 "nbformat": 4,
 "nbformat_minor": 0
}
