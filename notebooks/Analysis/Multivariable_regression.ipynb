{
 "cells": [
  {
   "cell_type": "markdown",
   "metadata": {},
   "source": [
    "### poc and wip for multivar regression"
   ]
  },
  {
   "cell_type": "markdown",
   "metadata": {},
   "source": [
    "# Imports and setup"
   ]
  },
  {
   "cell_type": "markdown",
   "metadata": {},
   "source": [
    "General imports"
   ]
  },
  {
   "cell_type": "code",
   "execution_count": null,
   "metadata": {
    "collapsed": true
   },
   "outputs": [],
   "source": [
    "import pandas as pd"
   ]
  },
  {
   "cell_type": "markdown",
   "metadata": {},
   "source": [
    "OpenGrid-specific imports"
   ]
  },
  {
   "cell_type": "code",
   "execution_count": null,
   "metadata": {
    "collapsed": false
   },
   "outputs": [],
   "source": [
    "from opengrid.library import houseprint\n",
    "from opengrid import config\n",
    "from opengrid.library import linearregression\n",
    "\n",
    "c = config.Config()"
   ]
  },
  {
   "cell_type": "markdown",
   "metadata": {},
   "source": [
    "Plotting settings"
   ]
  },
  {
   "cell_type": "code",
   "execution_count": null,
   "metadata": {
    "collapsed": false
   },
   "outputs": [],
   "source": [
    "import matplotlib.pyplot as plt\n",
    "%matplotlib inline\n",
    "plt.rcParams['figure.figsize'] = 16,8"
   ]
  },
  {
   "cell_type": "markdown",
   "metadata": {},
   "source": [
    "# Load Data"
   ]
  },
  {
   "cell_type": "markdown",
   "metadata": {},
   "source": [
    "We are going to use gas consumption data and weather data. Because we don't want to overload the weather API, we will only use 1 location (Ukkel).\n",
    "\n",
    "First, let's define the start and end date of our experiment. Let's take 1 year worth of data, starting with last month."
   ]
  },
  {
   "cell_type": "code",
   "execution_count": null,
   "metadata": {
    "collapsed": false
   },
   "outputs": [],
   "source": [
    "end = pd.Timestamp.today().replace(day=1).normalize() + pd.Timedelta(days=1)\n",
    "start = (end.replace(year=end.year-1)) - pd.Timedelta(days=2)\n",
    "\n",
    "start = start.tz_localize('Europe/Brussels')\n",
    "end = end.tz_localize('Europe/Brussels')\n",
    "print(start, end)"
   ]
  },
  {
   "cell_type": "markdown",
   "metadata": {},
   "source": [
    "## Gas Data"
   ]
  },
  {
   "cell_type": "code",
   "execution_count": null,
   "metadata": {
    "collapsed": false,
    "scrolled": true
   },
   "outputs": [],
   "source": [
    "# Load the Houseprint, and sync all data\n",
    "hp = houseprint.Houseprint()\n",
    "#hp = houseprint.load_houseprint_from_file('cache_hp.hp')\n",
    "hp.init_tmpo()"
   ]
  },
  {
   "cell_type": "code",
   "execution_count": null,
   "metadata": {
    "collapsed": false,
    "scrolled": true
   },
   "outputs": [],
   "source": [
    "hp.sync_tmpos()"
   ]
  },
  {
   "cell_type": "code",
   "execution_count": null,
   "metadata": {
    "collapsed": false
   },
   "outputs": [],
   "source": [
    "#hp.save('cache_hp.hp')"
   ]
  },
  {
   "cell_type": "code",
   "execution_count": null,
   "metadata": {
    "collapsed": false
   },
   "outputs": [],
   "source": [
    "def gas_data_generator4():\n",
    "    # Preferred method: as accurate as 3, and faster\n",
    "    # Daily approach, obtain fully correct daily data.\n",
    "    # To be aggregated to monthly or weekly or ...\n",
    "    \n",
    "    for gas_sensor in hp.get_sensors(sensortype='gas'):\n",
    "        df = gas_sensor.get_data(head=start, tail=end, resample='day', unit='kWh', diff=False, tz='Europe/Brussels')\n",
    "        df = df.diff().shift(-1).dropna()\n",
    "        if df.empty:\n",
    "            continue\n",
    "        yield df"
   ]
  },
  {
   "cell_type": "markdown",
   "metadata": {},
   "source": [
    "Let's have a peek"
   ]
  },
  {
   "cell_type": "code",
   "execution_count": null,
   "metadata": {
    "collapsed": true
   },
   "outputs": [],
   "source": [
    "gas_data = gas_data_generator4()"
   ]
  },
  {
   "cell_type": "code",
   "execution_count": null,
   "metadata": {
    "collapsed": true
   },
   "outputs": [],
   "source": [
    "peek = next(gas_data)\n",
    "peek.plot()"
   ]
  },
  {
   "cell_type": "markdown",
   "metadata": {},
   "source": [
    "## Weather Data"
   ]
  },
  {
   "cell_type": "markdown",
   "metadata": {},
   "source": [
    "Run this block to download the weather data and save it to a pickle. This is a large request, and you can only do 2 or 3 of these per day before your credit with Forecast.io runs out!"
   ]
  },
  {
   "cell_type": "markdown",
   "metadata": {},
   "source": [
    "To get the data run the cell below"
   ]
  },
  {
   "cell_type": "code",
   "execution_count": null,
   "metadata": {
    "collapsed": false,
    "scrolled": false
   },
   "outputs": [],
   "source": [
    "from opengrid.library import forecastwrapper\n",
    "weather = forecastwrapper.Weather(location='Ukkel, Belgium', start=start, end=end - pd.Timedelta(days=1))\n",
    "weather_data = weather.days(heating_base_temperatures=[0, 6, 8 ,10, 12, 14, 16, 18]).dropna(axis=1)\n",
    "weather_data.drop(['icon', 'summary'], axis=1, inplace=True)\n",
    "weather_data = weather_data.applymap(float)"
   ]
  },
  {
   "cell_type": "markdown",
   "metadata": {},
   "source": [
    "# Put data together"
   ]
  },
  {
   "cell_type": "markdown",
   "metadata": {},
   "source": [
    "I wrote a generator that uses our previously defined generator so you can generate while you generate."
   ]
  },
  {
   "cell_type": "code",
   "execution_count": null,
   "metadata": {
    "collapsed": true
   },
   "outputs": [],
   "source": [
    "def analysis_data_generator():\n",
    "    gas_data = gas_data_generator4()\n",
    "    for gas_df in gas_data:\n",
    "        gas_df.name='gas'\n",
    "        df = pd.concat([gas_df, weather_data], axis=1).dropna()\n",
    "        df = df.tz_convert('Europe/Brussels')\n",
    "        yield df"
   ]
  },
  {
   "cell_type": "markdown",
   "metadata": {},
   "source": [
    "Let's have another peek"
   ]
  },
  {
   "cell_type": "code",
   "execution_count": null,
   "metadata": {
    "collapsed": true
   },
   "outputs": [],
   "source": [
    "analysis_data = analysis_data_generator()"
   ]
  },
  {
   "cell_type": "code",
   "execution_count": null,
   "metadata": {
    "collapsed": false
   },
   "outputs": [],
   "source": [
    "peek = next(analysis_data)\n",
    "peek = peek.resample(rule='MS').sum()\n",
    "\n",
    "fig, ax1 = plt.subplots()\n",
    "ax2 = ax1.twinx()\n",
    "ax1.plot_date(peek.index, peek['gas'], '-', color='grey', lw=8, label='gas')\n",
    "for column in peek.columns[1:]:\n",
    "    if 'heatingDegreeDays' in column:\n",
    "        ax2.plot_date(peek.index, peek[column], '-', label=column)\n",
    "plt.legend()"
   ]
  },
  {
   "cell_type": "markdown",
   "metadata": {
    "collapsed": true
   },
   "source": [
    "# Run Regression Analysis\n",
    "\n"
   ]
  },
  {
   "cell_type": "code",
   "execution_count": null,
   "metadata": {
    "collapsed": false
   },
   "outputs": [],
   "source": [
    "%%bash\n",
    "pip install statsmodels"
   ]
  },
  {
   "cell_type": "code",
   "execution_count": null,
   "metadata": {
    "collapsed": false
   },
   "outputs": [],
   "source": [
    "import statsmodels.api as sm\n",
    "import statsmodels.formula.api as fm\n",
    "from statsmodels.sandbox.regression.predstd import wls_prediction_std"
   ]
  },
  {
   "cell_type": "code",
   "execution_count": null,
   "metadata": {
    "collapsed": true
   },
   "outputs": [],
   "source": [
    "def find_best_rsquared(list_of_fits):\n",
    "    \"\"\"Return the best fit, based on rsquared\"\"\"\n",
    "    res = sorted(list_of_fits, key=lambda x:x.rsquared)\n",
    "    return res[-1]\n",
    "\n",
    "def find_best_akaike(list_of_fits):\n",
    "    \"\"\"Return the best fit, based on Akaike information criterion\"\"\"\n",
    "    res = sorted(list_of_fits, key=lambda x:x.aic)\n",
    "    return res[0]\n",
    "    \n"
   ]
  },
  {
   "cell_type": "code",
   "execution_count": null,
   "metadata": {
    "collapsed": false,
    "scrolled": true
   },
   "outputs": [],
   "source": [
    "analysis_data = analysis_data_generator()\n",
    "all_HDD = weather_data.filter(like='heatingDegreeDays').columns\n",
    "\n",
    "for data in analysis_data:  \n",
    "    fits = []\n",
    "    data = data.resample(rule='MS').sum()\n",
    "    for HDD in all_HDD:\n",
    "        fit = fm.ols(formula='gas ~ {}'.format(HDD), data=data).fit()\n",
    "        fits.append(fit)\n",
    "    \n",
    "    # Visualise the best model\n",
    "    bestfit = find_best_akaike(fits)\n",
    "    HDD = list(set(bestfit.model.exog_names) - set(['Intercept'])) # this will work for multivariate models, but not the rest of this code\n",
    "    data['model'] = bestfit.predict(data)\n",
    "    \n",
    "    plt.figure()\n",
    "    plt.plot(data[HDD[0]], data['gas'], 'r*', ms=7)\n",
    "    # get sorted model values\n",
    "    dfmodel = data[[HDD[0], 'model']]\n",
    "    dfmodel.index = dfmodel[HDD[0]]\n",
    "    dfmodel.sort(inplace=True)\n",
    "    plt.plot(dfmodel.index, dfmodel['model'], 'b-')\n",
    "    plt.title('{} - rsquared={} - AIC={}'.format(bestfit.model.formula, bestfit.rsquared, bestfit.aic))"
   ]
  },
  {
   "cell_type": "code",
   "execution_count": null,
   "metadata": {
    "collapsed": true
   },
   "outputs": [],
   "source": []
  }
 ],
 "metadata": {
  "kernelspec": {
   "display_name": "Python 3",
   "language": "python",
   "name": "python3"
  },
  "language_info": {
   "codemirror_mode": {
    "name": "ipython",
    "version": 3
   },
   "file_extension": ".py",
   "mimetype": "text/x-python",
   "name": "python",
   "nbconvert_exporter": "python",
   "pygments_lexer": "ipython3",
   "version": "3.5.2"
  }
 },
 "nbformat": 4,
 "nbformat_minor": 0
}
