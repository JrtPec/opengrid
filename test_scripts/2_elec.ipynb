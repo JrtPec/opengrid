{
 "metadata": {
  "name": "",
  "signature": "sha256:2a410c9268823730fff38bab08c191c1482625c9beb2601530cc52ab8aa42a44"
 },
 "nbformat": 3,
 "nbformat_minor": 0,
 "worksheets": [
  {
   "cells": [
    {
     "cell_type": "code",
     "collapsed": false,
     "input": [
      "import os, sys, pytz\n",
      "import time\n",
      "import inspect\n",
      "import numpy as np\n",
      "import pandas as pd\n",
      "import matplotlib.pyplot as plt\n",
      "import datetime as dt\n",
      "from scipy import stats\n",
      "\n",
      "script_dir = os.path.dirname(os.path.abspath(inspect.getfile(inspect.currentframe())))\n",
      "# add the path to opengrid to sys.path\n",
      "sys.path.append(os.path.join(script_dir, os.pardir, os.pardir))\n",
      "from opengrid.library import config, houseprint, fluksoapi, plotting\n",
      "from opengrid.library import wundergroundapi as wg\n",
      "c=config.Config()\n",
      "\n",
      "key = c.get('Wunderground', 'apikey')\n",
      "\n",
      "# find tmpo\n",
      "sys.path.append(c.get('tmpo', 'folder'))\n",
      "import tmpo\n",
      "\n",
      "%matplotlib inline\n",
      "plt.rcParams['figure.figsize'] = 16,8\n",
      "\n",
      "# path to data\n",
      "path_to_data = c.get('data', 'folder')\n",
      "if not os.path.exists(path_to_data):\n",
      "    raise IOError(\"Provide your path to the data in your config.ini file.  This is a folder containing a 'zip' and 'csv' subfolder.\")\n",
      "else:\n",
      "    path_to_csv = os.path.join(path_to_data, 'csv')\n",
      "    path_to_fig = os.path.join(path_to_data, 'figures')\n",
      "    if not os.path.isdir(path_to_fig): os.makedirs(path_to_fig)"
     ],
     "language": "python",
     "metadata": {},
     "outputs": []
    },
    {
     "cell_type": "code",
     "collapsed": false,
     "input": [
      "hp = houseprint.load_houseprint_from_file('hp_anonymous.pkl')\n",
      "\n",
      "start = pd.Timestamp('20131229')\n",
      "end = pd.Timestamp('20150226')\n",
      "\n",
      "end = end.to_datetime()\n",
      "start = start.to_datetime()"
     ],
     "language": "python",
     "metadata": {},
     "outputs": []
    },
    {
     "cell_type": "code",
     "collapsed": false,
     "input": [
      "print start\n",
      "print end"
     ],
     "language": "python",
     "metadata": {},
     "outputs": []
    },
    {
     "cell_type": "code",
     "collapsed": false,
     "input": [
      "gas_sensors = hp.get_sensors_by_type('electricity')\n",
      "while True:\n",
      "    errors = 0\n",
      "    for sensor in gas_sensors:\n",
      "        try:\n",
      "            fluksoapi.find_csv(path_to_csv,sensor)\n",
      "        except:\n",
      "            gas_sensors.remove(sensor)\n",
      "            errors += 1\n",
      "    if errors == 0:\n",
      "        break\n",
      "dfcum = fluksoapi.load(path_to_csv, gas_sensors, start, end)\n",
      "dfcum.index.tz# = None"
     ],
     "language": "python",
     "metadata": {},
     "outputs": []
    },
    {
     "cell_type": "code",
     "collapsed": false,
     "input": [
      "df_temp = wg.get_stored_historic_dayaverage(key=key,city='Leuven',start=start,end=end)\n",
      "df_temp.index.tz = 'Europe/Brussels'"
     ],
     "language": "python",
     "metadata": {},
     "outputs": []
    },
    {
     "cell_type": "code",
     "collapsed": false,
     "input": [
      "df_tot = dfcum.join(df_temp)"
     ],
     "language": "python",
     "metadata": {},
     "outputs": []
    },
    {
     "cell_type": "code",
     "collapsed": false,
     "input": [
      "dfinterp = df_tot.resample('d')"
     ],
     "language": "python",
     "metadata": {},
     "outputs": []
    },
    {
     "cell_type": "code",
     "collapsed": false,
     "input": [
      "for sensor in dfinterp:\n",
      "    if sensor == 'T_out':continue\n",
      "    fig,ax1 = plt.subplots()\n",
      "    ax1.bar(dfinterp.index,dfinterp[sensor],label=sensor,alpha=0.5,align=\"center\")\n",
      "    ax2 = ax1.twinx()\n",
      "    ax2.plot_date(dfinterp.index,dfinterp['T_out'],'-',color='r')\n",
      "    plt.legend()"
     ],
     "language": "python",
     "metadata": {},
     "outputs": []
    },
    {
     "cell_type": "code",
     "collapsed": false,
     "input": [
      "for sensor in dfinterp:\n",
      "    if sensor == 'T_out':continue\n",
      "    y = dfinterp[sensor]\n",
      "    x = dfinterp['T_out']\n",
      "    \n",
      "    z = np.polyfit(x, y, 1)\n",
      "    p = np.poly1d(z)\n",
      "    \n",
      "    slope, intercept, r_value, p_value, slope_std_error = stats.linregress(x, y)\n",
      "    predict_y = intercept + slope * x\n",
      "\n",
      "    plt.figure()\n",
      "    colors = []\n",
      "    for date in y.index:\n",
      "        delta1 = abs((date - date.replace(month=1,day=10)).days)\n",
      "        delta2 = abs((date - date.replace(year=date.year+1,month=1,day=10)).days)\n",
      "        delta = min(delta1,delta2)\n",
      "        colors.append(delta)\n",
      "    area = 200# 0 to 15 point radiuses\n",
      "    \n",
      "    plt.scatter(x, y, s=area, c=colors, alpha=0.5, cmap=plt.get_cmap('summer'))\n",
      "    plt.plot(x,p(x),\"r-\")\n",
      "    plt.plot(x, predict_y, 'k-')\n",
      "    plt.title(hp.get_flukso_from_sensor(sensor))"
     ],
     "language": "python",
     "metadata": {},
     "outputs": []
    },
    {
     "cell_type": "code",
     "collapsed": false,
     "input": [],
     "language": "python",
     "metadata": {},
     "outputs": []
    },
    {
     "cell_type": "code",
     "collapsed": false,
     "input": [],
     "language": "python",
     "metadata": {},
     "outputs": []
    }
   ],
   "metadata": {}
  }
 ]
}