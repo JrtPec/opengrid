{
 "metadata": {
  "name": "",
  "signature": "sha256:aa63de9b23bdfc2e2c231db793678e9861b63a83a7e605bd78073b7b39f89be1"
 },
 "nbformat": 3,
 "nbformat_minor": 0,
 "worksheets": [
  {
   "cells": [
    {
     "cell_type": "code",
     "collapsed": false,
     "input": [
      "import os, sys\n",
      "import time\n",
      "import datetime\n",
      "import inspect\n",
      "import numpy as np\n",
      "import pandas as pd\n",
      "import matplotlib.pyplot as plt\n",
      "import datetime as dt\n",
      "\n",
      "script_dir = os.path.dirname(os.path.abspath(inspect.getfile(inspect.currentframe())))\n",
      "# add the path to opengrid to sys.path\n",
      "sys.path.append(os.path.join(script_dir, os.pardir, os.pardir))\n",
      "from opengrid.library import config\n",
      "from opengrid.library import wundergroundapi as wg\n",
      "c=config.Config()\n",
      "\n",
      "key = c.get('Wunderground', 'apikey')\n",
      "path_to_data = c.get('data', 'folder')\n",
      "\n",
      "%matplotlib inline\n",
      "plt.rcParams['figure.figsize'] = 16,8"
     ],
     "language": "python",
     "metadata": {},
     "outputs": []
    },
    {
     "cell_type": "code",
     "collapsed": false,
     "input": [
      "city = 'Leuven'\n",
      "start = datetime.datetime(year=2014,month=10,day=1)\n",
      "end = datetime.datetime(year=2015,month=1,day=25)"
     ],
     "language": "python",
     "metadata": {},
     "outputs": []
    },
    {
     "cell_type": "code",
     "collapsed": false,
     "input": [
      "df = wg.get_stored_historic_dayaverage(key=key,city=city,start=start,end=end)"
     ],
     "language": "python",
     "metadata": {},
     "outputs": []
    },
    {
     "cell_type": "code",
     "collapsed": false,
     "input": [
      "plt.plot_date(df.index,df,'-')"
     ],
     "language": "python",
     "metadata": {},
     "outputs": []
    },
    {
     "cell_type": "code",
     "collapsed": false,
     "input": [],
     "language": "python",
     "metadata": {},
     "outputs": []
    }
   ],
   "metadata": {}
  }
 ]
}