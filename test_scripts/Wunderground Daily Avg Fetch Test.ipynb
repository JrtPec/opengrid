{
 "metadata": {
  "name": "",
  "signature": "sha256:6925ac379997b37720ab4b179f1562c2862e24805a68407e3d1103e58454911b"
 },
 "nbformat": 3,
 "nbformat_minor": 0,
 "worksheets": [
  {
   "cells": [
    {
     "cell_type": "code",
     "collapsed": false,
     "input": [
      "import os, sys\n",
      "import time\n",
      "import datetime\n",
      "import inspect\n",
      "import numpy as np\n",
      "import pandas as pd\n",
      "import matplotlib.pyplot as plt\n",
      "import datetime as dt\n",
      "\n",
      "script_dir = os.path.dirname(os.path.abspath(inspect.getfile(inspect.currentframe())))\n",
      "# add the path to opengrid to sys.path\n",
      "sys.path.append(os.path.join(script_dir, os.pardir, os.pardir))\n",
      "from opengrid.library import config\n",
      "from opengrid.library import wundergroundapi as wg\n",
      "c=config.Config()\n",
      "\n",
      "key = c.get('Wunderground', 'apikey')\n",
      "path_to_data = c.get('data', 'folder')\n",
      "\n",
      "%matplotlib inline\n",
      "plt.rcParams['figure.figsize'] = 16,8"
     ],
     "language": "python",
     "metadata": {},
     "outputs": [],
     "prompt_number": 1
    },
    {
     "cell_type": "code",
     "collapsed": false,
     "input": [
      "city = 'Silly'\n",
      "start = datetime.datetime(year=2015,month=1,day=24)\n",
      "end = datetime.datetime(year=2015,month=1,day=25)"
     ],
     "language": "python",
     "metadata": {},
     "outputs": [],
     "prompt_number": 2
    },
    {
     "cell_type": "code",
     "collapsed": false,
     "input": [
      "df = wg.get_stored_historic_dayaverage(key=key,city=city,start=start,end=end)"
     ],
     "language": "python",
     "metadata": {},
     "outputs": []
    },
    {
     "cell_type": "code",
     "collapsed": false,
     "input": [
      "plt.plot_date(df.index,df,'-')"
     ],
     "language": "python",
     "metadata": {},
     "outputs": []
    },
    {
     "cell_type": "code",
     "collapsed": false,
     "input": [
      "df = wg.get_stored_historic_dayaverage(key,city,start,end,prop='all',fast=False)"
     ],
     "language": "python",
     "metadata": {},
     "outputs": [],
     "prompt_number": 6
    },
    {
     "cell_type": "code",
     "collapsed": false,
     "input": [
      "df"
     ],
     "language": "python",
     "metadata": {},
     "outputs": [
      {
       "html": [
        "<div style=\"max-height:1000px;max-width:1500px;overflow:auto;\">\n",
        "<table border=\"1\" class=\"dataframe\">\n",
        "  <thead>\n",
        "    <tr style=\"text-align: right;\">\n",
        "      <th></th>\n",
        "      <th>fog</th>\n",
        "      <th>rain</th>\n",
        "      <th>snow</th>\n",
        "      <th>snowfallm</th>\n",
        "      <th>snowdepthm</th>\n",
        "      <th>meantempm</th>\n",
        "      <th>meandewptm</th>\n",
        "      <th>meanpressurem</th>\n",
        "      <th>meanwindspdm</th>\n",
        "      <th>meanvism</th>\n",
        "      <th>...</th>\n",
        "      <th>mindewptm</th>\n",
        "      <th>maxpressurem</th>\n",
        "      <th>minpressurem</th>\n",
        "      <th>maxwspdm</th>\n",
        "      <th>minwspdm</th>\n",
        "      <th>maxvism</th>\n",
        "      <th>minvism</th>\n",
        "      <th>heatingdegreedays</th>\n",
        "      <th>coolingdegreedays</th>\n",
        "      <th>precipm</th>\n",
        "    </tr>\n",
        "  </thead>\n",
        "  <tbody>\n",
        "    <tr>\n",
        "      <th>2015-01-24</th>\n",
        "      <td> 0</td>\n",
        "      <td> 1</td>\n",
        "      <td> 1</td>\n",
        "      <td> </td>\n",
        "      <td> </td>\n",
        "      <td> 2</td>\n",
        "      <td>-1</td>\n",
        "      <td> 1022.64</td>\n",
        "      <td> 19</td>\n",
        "      <td> 6.6</td>\n",
        "      <td>...</td>\n",
        "      <td>-2</td>\n",
        "      <td> 1028</td>\n",
        "      <td> 1019</td>\n",
        "      <td> 28</td>\n",
        "      <td> 4</td>\n",
        "      <td> 30</td>\n",
        "      <td> 0.4</td>\n",
        "      <td> 30</td>\n",
        "      <td> 0</td>\n",
        "      <td> 2</td>\n",
        "    </tr>\n",
        "    <tr>\n",
        "      <th>2015-01-25</th>\n",
        "      <td> 0</td>\n",
        "      <td> 1</td>\n",
        "      <td> 0</td>\n",
        "      <td> </td>\n",
        "      <td> </td>\n",
        "      <td> 2</td>\n",
        "      <td> 1</td>\n",
        "      <td> 1030.56</td>\n",
        "      <td>  9</td>\n",
        "      <td> 8.1</td>\n",
        "      <td>...</td>\n",
        "      <td>-1</td>\n",
        "      <td> 1035</td>\n",
        "      <td> 1027</td>\n",
        "      <td> 18</td>\n",
        "      <td> 4</td>\n",
        "      <td> 11</td>\n",
        "      <td> 5.0</td>\n",
        "      <td> 29</td>\n",
        "      <td> 0</td>\n",
        "      <td> 2</td>\n",
        "    </tr>\n",
        "  </tbody>\n",
        "</table>\n",
        "<p>2 rows \u00d7 26 columns</p>\n",
        "</div>"
       ],
       "metadata": {},
       "output_type": "pyout",
       "prompt_number": 7,
       "text": [
        "            fog  rain  snow snowfallm snowdepthm  meantempm  meandewptm  \\\n",
        "2015-01-24    0     1     1                               2          -1   \n",
        "2015-01-25    0     1     0                               2           1   \n",
        "\n",
        "            meanpressurem  meanwindspdm  meanvism   ...     mindewptm  \\\n",
        "2015-01-24        1022.64            19       6.6   ...            -2   \n",
        "2015-01-25        1030.56             9       8.1   ...            -1   \n",
        "\n",
        "            maxpressurem  minpressurem  maxwspdm  minwspdm  maxvism  minvism  \\\n",
        "2015-01-24          1028          1019        28         4       30      0.4   \n",
        "2015-01-25          1035          1027        18         4       11      5.0   \n",
        "\n",
        "            heatingdegreedays  coolingdegreedays  precipm  \n",
        "2015-01-24                 30                  0        2  \n",
        "2015-01-25                 29                  0        2  \n",
        "\n",
        "[2 rows x 26 columns]"
       ]
      }
     ],
     "prompt_number": 7
    },
    {
     "cell_type": "code",
     "collapsed": false,
     "input": [],
     "language": "python",
     "metadata": {},
     "outputs": []
    }
   ],
   "metadata": {}
  }
 ]
}