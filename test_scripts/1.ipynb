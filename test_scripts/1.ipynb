{
 "metadata": {
  "name": "",
  "signature": "sha256:11dafb02eb5d6b30199b51b83ed88fd8378ee53d60e6c2133242b26366aaa947"
 },
 "nbformat": 3,
 "nbformat_minor": 0,
 "worksheets": [
  {
   "cells": [
    {
     "cell_type": "code",
     "collapsed": false,
     "input": [
      "import os, sys\n",
      "import time\n",
      "import inspect\n",
      "import numpy as np\n",
      "import pandas as pd\n",
      "import matplotlib.pyplot as plt\n",
      "\n",
      "script_dir = os.path.dirname(os.path.abspath(inspect.getfile(inspect.currentframe())))\n",
      "# add the path to opengrid to sys.path\n",
      "sys.path.append(os.path.join(script_dir, os.pardir, os.pardir))\n",
      "from opengrid.library import config, houseprint, fluksoapi, plotting\n",
      "c=config.Config()\n",
      "\n",
      "# find tmpo\n",
      "sys.path.append(c.get('tmpo', 'folder'))\n",
      "import tmpo\n",
      "\n",
      "%matplotlib inline\n",
      "plt.rcParams['figure.figsize'] = 16,8\n",
      "\n",
      "# path to data\n",
      "path_to_data = c.get('data', 'folder')\n",
      "if not os.path.exists(path_to_data):\n",
      "    raise IOError(\"Provide your path to the data in your config.ini file.  This is a folder containing a 'zip' and 'csv' subfolder.\")\n",
      "else:\n",
      "    path_to_fig = os.path.join(path_to_data, 'figures')\n",
      "    if not os.path.isdir(path_to_fig): os.makedirs(path_to_fig)"
     ],
     "language": "python",
     "metadata": {},
     "outputs": []
    },
    {
     "cell_type": "code",
     "collapsed": false,
     "input": [
      "hp = houseprint.load_houseprint_from_file('hp_anonymous.pkl')\n",
      "\n",
      "#set start date\n",
      "number_of_days = 1\n",
      "start = pd.Timestamp(time.time() - number_of_days*24, unit='s')\n",
      "start = start.replace(hour=0,minute=0, second=1)\n",
      "end = start.replace(hour=23,minute=59,second=59)"
     ],
     "language": "python",
     "metadata": {},
     "outputs": []
    },
    {
     "cell_type": "code",
     "collapsed": false,
     "input": [
      "tmpos = tmpo.Session()\n",
      "tmpos.sync()\n",
      "tmpo_sensors = [sid for (sid,) in tmpos.dbcur.execute(tmpo.SQL_SENSOR_ALL)]"
     ],
     "language": "python",
     "metadata": {},
     "outputs": []
    },
    {
     "cell_type": "code",
     "collapsed": false,
     "input": [
      "def dif_interp(ts):\n",
      "    if ts.empty:\n",
      "        return ts\n",
      "    newindex = ts.resample('10min').index\n",
      "    tsmin = ts.reindex(ts.index+newindex)\n",
      "    tsmin = tsmin.interpolate(method='time')\n",
      "    tsmin = tsmin.reindex(newindex)\n",
      "    return tsmin.diff()*3600/60/10"
     ],
     "language": "python",
     "metadata": {},
     "outputs": []
    },
    {
     "cell_type": "code",
     "collapsed": false,
     "input": [
      "\n",
      "sensors = set(tmpo_sensors)\n",
      "dfcum = tmpos.dataframe(sensors,head=start,tail=end)\n",
      "df = dif_interp(dfcum)"
     ],
     "language": "python",
     "metadata": {},
     "outputs": []
    },
    {
     "cell_type": "code",
     "collapsed": false,
     "input": [
      "solar_functions = set([\"Solar\",\"PV\",\"PV1\",\"PV2\"])"
     ],
     "language": "python",
     "metadata": {},
     "outputs": []
    },
    {
     "cell_type": "code",
     "collapsed": false,
     "input": [
      "for flukso in hp.flukso_ids:\n",
      "    elec_sensors = hp.get_sensors_for_flukso_by_type(flukso_id=flukso, sensortype='electricity')\n",
      "    water_sensors = hp.get_sensors_for_flukso_by_type(flukso_id=flukso, sensortype='water')\n",
      "    gas_sensors = hp.get_sensors_for_flukso_by_type(flukso_id=flukso, sensortype='gas')\n",
      "    \n",
      "    plt.figure()\n",
      "    f, axarr = plt.subplots(3)\n",
      "    \n",
      "    for sensordic in elec_sensors:\n",
      "        if sensordic['Function'] in solar_functions: continue\n",
      "        sensor = sensordic['Sensor']\n",
      "        try:\n",
      "            if df[sensor].empty: continue\n",
      "        except:\n",
      "            pass\n",
      "        else:\n",
      "            axarr[0].plot_date(df.index,df[sensor],'-',label=sensordic['Function'])      \n",
      "            axarr[0].legend()\n",
      "        \n",
      "    for sensordic in water_sensors:\n",
      "        sensor = sensordic['Sensor']\n",
      "        try:\n",
      "            axarr[1].plot_date(df.index,df[sensor],'-',label=sensordic['Function'])    \n",
      "        except:\n",
      "            pass\n",
      "        else:\n",
      "            axarr[1].legend()\n",
      "        \n",
      "    for sensordic in gas_sensors:\n",
      "        sensor = sensordic['Sensor']\n",
      "        try:\n",
      "            axarr[2].plot_date(df.index,df[sensor],'-',label=sensordic['Function'])\n",
      "        except:\n",
      "            pass\n",
      "        else:\n",
      "            axarr[2].legend()"
     ],
     "language": "python",
     "metadata": {},
     "outputs": []
    },
    {
     "cell_type": "code",
     "collapsed": false,
     "input": [],
     "language": "python",
     "metadata": {},
     "outputs": []
    }
   ],
   "metadata": {}
  }
 ]
}