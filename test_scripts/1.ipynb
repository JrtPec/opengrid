{
 "metadata": {
  "name": "",
  "signature": "sha256:456a9e016da1495ec7f23417521cd176236ea1b008ff34cadbc481ce71dc0879"
 },
 "nbformat": 3,
 "nbformat_minor": 0,
 "worksheets": [
  {
   "cells": [
    {
     "cell_type": "code",
     "collapsed": false,
     "input": [
      "import os, sys\n",
      "import time\n",
      "import inspect\n",
      "import numpy as np\n",
      "import pandas as pd\n",
      "import matplotlib.pyplot as plt\n",
      "import datetime as dt\n",
      "\n",
      "script_dir = os.path.dirname(os.path.abspath(inspect.getfile(inspect.currentframe())))\n",
      "# add the path to opengrid to sys.path\n",
      "sys.path.append(os.path.join(script_dir, os.pardir, os.pardir))\n",
      "from opengrid.library import config, houseprint, fluksoapi, plotting\n",
      "c=config.Config()\n",
      "\n",
      "# find tmpo\n",
      "sys.path.append(c.get('tmpo', 'folder'))\n",
      "import tmpo\n",
      "\n",
      "%matplotlib inline\n",
      "plt.rcParams['figure.figsize'] = 16,8\n",
      "\n",
      "# path to data\n",
      "path_to_data = c.get('data', 'folder')\n",
      "if not os.path.exists(path_to_data):\n",
      "    raise IOError(\"Provide your path to the data in your config.ini file.  This is a folder containing a 'zip' and 'csv' subfolder.\")\n",
      "else:\n",
      "    path_to_fig = os.path.join(path_to_data, 'figures')\n",
      "    if not os.path.isdir(path_to_fig): os.makedirs(path_to_fig)"
     ],
     "language": "python",
     "metadata": {},
     "outputs": []
    },
    {
     "cell_type": "code",
     "collapsed": false,
     "input": [
      "hp = houseprint.load_houseprint_from_file('hp_anonymous.pkl')\n",
      "\n",
      "#start = pd.Timestamp('20150101')\n",
      "#end = pd.Timestamp('20150201')\n",
      "\n",
      "end = pd.Timestamp(time.time()-3600*24,unit='s')\n",
      "start = end - pd.Timedelta(days=100)\n",
      "#end = end.replace(hour=23,minute=59,second=59)"
     ],
     "language": "python",
     "metadata": {},
     "outputs": []
    },
    {
     "cell_type": "code",
     "collapsed": false,
     "input": [
      "print start\n",
      "print end"
     ],
     "language": "python",
     "metadata": {},
     "outputs": []
    },
    {
     "cell_type": "code",
     "collapsed": false,
     "input": [
      "tmpos = tmpo.Session()\n",
      "tmpos.sync()\n",
      "tmpo_sensors = [sid for (sid,) in tmpos.dbcur.execute(tmpo.SQL_SENSOR_ALL)]"
     ],
     "language": "python",
     "metadata": {},
     "outputs": []
    },
    {
     "cell_type": "code",
     "collapsed": false,
     "input": [
      "solar_functions = set([\"Solar\",\"PV\",\"PV1\",\"PV2\"])"
     ],
     "language": "python",
     "metadata": {},
     "outputs": []
    },
    {
     "cell_type": "code",
     "collapsed": false,
     "input": [
      "def get_consumption(sensor,start,end):\n",
      "    try:\n",
      "        ts = tmpos.series(sensor,head=start,tail=end)\n",
      "    except:\n",
      "        return None\n",
      "    else:\n",
      "        if ts.dropna().empty:\n",
      "            return None\n",
      "        else:\n",
      "            first = ts[ts.first_valid_index()]\n",
      "            last = ts[ts[::-1].first_valid_index()]\n",
      "            return last - first"
     ],
     "language": "python",
     "metadata": {},
     "outputs": []
    },
    {
     "cell_type": "code",
     "collapsed": false,
     "input": [
      "price_elec = 0.0002 #20 cent per kWh = 0.0002 euro per Wh\n",
      "price_water = 0.004 #4\u20ac per m3 = 0.004 euro per L\n",
      "price_gas = 0.0005 #50 cent per kWh"
     ],
     "language": "python",
     "metadata": {},
     "outputs": []
    },
    {
     "cell_type": "code",
     "collapsed": false,
     "input": [
      "for flukso in hp.flukso_ids:\n",
      "    elec_sensors = hp.get_sensors_for_flukso_by_type(flukso_id=flukso, sensortype='electricity')\n",
      "    water_sensors = hp.get_sensors_for_flukso_by_type(flukso_id=flukso, sensortype='water')\n",
      "    gas_sensors = hp.get_sensors_for_flukso_by_type(flukso_id=flukso, sensortype='gas')\n",
      "    \n",
      "    labels = []\n",
      "    prices = []\n",
      "    colors = []\n",
      "    \n",
      "    for sensordic in elec_sensors:\n",
      "        if sensordic['Function'] in solar_functions: continue\n",
      "        value = get_consumption(sensor=sensordic['Sensor'],start=start,end=end)\n",
      "        if value is None: continue\n",
      "        prices.append(value*price_elec)\n",
      "        labels.append(sensordic['Function']+'\\n'+'{v:.3f}kWh'.format(v=value/1000))\n",
      "        colors.append('yellow')\n",
      "        \n",
      "    for sensordic in water_sensors:\n",
      "        value = get_consumption(sensor=sensordic['Sensor'],start=start,end=end)\n",
      "        if value is None: continue\n",
      "        prices.append(value*price_water)\n",
      "        labels.append(sensordic['Function']+'\\n'+'{v:d}L'.format(v=int(value)))\n",
      "        colors.append('blue')\n",
      "        \n",
      "    for sensordic in gas_sensors:\n",
      "        value = get_consumption(sensor=sensordic['Sensor'],start=start,end=end)\n",
      "        if value is None: continue\n",
      "        prices.append(value*price_gas)\n",
      "        labels.append(sensordic['Function']+'\\n'+'{v:.3f}kWh'.format(v=value/1000))\n",
      "        colors.append('red')\n",
      "        \n",
      "    def my_autopct(pct):\n",
      "        total=sum(prices)\n",
      "        val=pct*total/100.0\n",
      "        return '{v:.2f}EUR'.format(v=val) + '\\n' +'({p:d}%)'.format(p=int(pct))\n",
      "        \n",
      "    if len(prices) == 0: continue    \n",
      "    plt.figure()\n",
      "    plt.title(flukso)\n",
      "    plt.axis('equal')\n",
      "    plt.pie(prices,labels=labels,colors=colors, autopct=my_autopct, shadow=True)\n",
      "    "
     ],
     "language": "python",
     "metadata": {},
     "outputs": []
    },
    {
     "cell_type": "code",
     "collapsed": false,
     "input": [],
     "language": "python",
     "metadata": {},
     "outputs": []
    }
   ],
   "metadata": {}
  }
 ]
}