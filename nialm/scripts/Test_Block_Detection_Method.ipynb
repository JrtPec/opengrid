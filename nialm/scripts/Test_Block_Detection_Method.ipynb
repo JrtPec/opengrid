{
 "metadata": {
  "name": "",
  "signature": "sha256:62c708c2846d4849b15bb0aa394882fb48ca52858d911d71cfa48841622fd802"
 },
 "nbformat": 3,
 "nbformat_minor": 0,
 "worksheets": [
  {
   "cells": [
    {
     "cell_type": "heading",
     "level": 1,
     "metadata": {},
     "source": [
      "Setup Test Environment"
     ]
    },
    {
     "cell_type": "code",
     "collapsed": false,
     "input": [
      "import pandas as pd\n",
      "import time, os, inspect, sys\n",
      "import matplotlib.pyplot as plt"
     ],
     "language": "python",
     "metadata": {},
     "outputs": []
    },
    {
     "cell_type": "markdown",
     "metadata": {},
     "source": [
      "Add upper directory to script_dir so we can import packages from the library"
     ]
    },
    {
     "cell_type": "code",
     "collapsed": false,
     "input": [
      "script_dir = os.path.dirname(os.path.abspath(inspect.getfile(inspect.currentframe())))\n",
      "sys.path.append(os.path.join(script_dir, os.pardir, os.pardir))"
     ],
     "language": "python",
     "metadata": {},
     "outputs": []
    },
    {
     "cell_type": "markdown",
     "metadata": {},
     "source": [
      "Setup matplotlib so we can print plots right in this worksheet"
     ]
    },
    {
     "cell_type": "code",
     "collapsed": false,
     "input": [
      "%matplotlib inline\n",
      "plt.rcParams['figure.figsize'] = 16,8"
     ],
     "language": "python",
     "metadata": {},
     "outputs": []
    },
    {
     "cell_type": "heading",
     "level": 3,
     "metadata": {},
     "source": [
      "Set the start and end times for the experiment"
     ]
    },
    {
     "cell_type": "code",
     "collapsed": false,
     "input": [
      "start = pd.Timestamp(time.time() - 3600*48, unit='s') #24 hours ago\n",
      "start = start.replace(hour=20,minute=0, second=0) #start around 20h\n",
      "end = start.replace(minute=2)"
     ],
     "language": "python",
     "metadata": {},
     "outputs": []
    },
    {
     "cell_type": "code",
     "collapsed": false,
     "input": [
      "from nialm.library.get_data import get_flukso_data"
     ],
     "language": "python",
     "metadata": {},
     "outputs": []
    },
    {
     "cell_type": "markdown",
     "metadata": {},
     "source": [
      "Import method that fetches Flukso data"
     ]
    },
    {
     "cell_type": "code",
     "collapsed": false,
     "input": [
      "from nialm.library.get_data import get_flukso_data"
     ],
     "language": "python",
     "metadata": {},
     "outputs": []
    },
    {
     "cell_type": "markdown",
     "metadata": {},
     "source": [
      "Download Flukso data for all sensors of 1 type (default = electricity)"
     ]
    },
    {
     "cell_type": "code",
     "collapsed": false,
     "input": [
      "df = get_flukso_data(start,end)"
     ],
     "language": "python",
     "metadata": {},
     "outputs": []
    },
    {
     "cell_type": "heading",
     "level": 3,
     "metadata": {},
     "source": [
      "Print all sensor names and plot the derivatives"
     ]
    },
    {
     "cell_type": "markdown",
     "metadata": {},
     "source": [
      "This is done so you can select a sensor that has the character you wish to analyse"
     ]
    },
    {
     "cell_type": "code",
     "collapsed": false,
     "input": [
      "for sensor in df:\n",
      "    print sensor\n",
      "    \n",
      "    data = df[sensor].diff() #take the derivative\n",
      "    \n",
      "    plt.figure()\n",
      "    plt.plot_date(data.index,data,'-')\n",
      "    plt.ylabel(\"deltaP [W]\")\n",
      "    plt.title(sensor)"
     ],
     "language": "python",
     "metadata": {},
     "outputs": []
    },
    {
     "cell_type": "heading",
     "level": 2,
     "metadata": {},
     "source": [
      "Pick one sensor and filter the flanks"
     ]
    },
    {
     "cell_type": "code",
     "collapsed": false,
     "input": [
      "from nialm.library.problems import Disaggregation_problem as dp\n",
      "\n",
      "orig_data = df['b841eb895810525017ddc5d932d37eb7']\n",
      "problem = dp(orig_data=orig_data)\n"
     ],
     "language": "python",
     "metadata": {},
     "outputs": []
    },
    {
     "cell_type": "code",
     "collapsed": false,
     "input": [
      "plt.figure()\n",
      "plt.plot_date(problem.df_orig.index,problem.df_orig,'-')\n",
      "plt.plot_date(problem.df_norm.index,problem.df_norm,'-',label=\"normalized\")\n",
      "plt.plot_date(problem.df_diff_full.index,problem.df_diff_full,'-',label='1st derivative')\n",
      "plt.plot_date(problem.df_diff.index,problem.df_diff,'o',label='flanks')\n",
      "plt.legend()"
     ],
     "language": "python",
     "metadata": {},
     "outputs": []
    },
    {
     "cell_type": "heading",
     "level": 1,
     "metadata": {},
     "source": [
      "IMPORT METHODS and begin test"
     ]
    },
    {
     "cell_type": "code",
     "collapsed": false,
     "input": [
      "from nialm.library.block_detection_methods2 import *"
     ],
     "language": "python",
     "metadata": {},
     "outputs": []
    },
    {
     "cell_type": "heading",
     "level": 2,
     "metadata": {},
     "source": [
      "Pick a method to test"
     ]
    },
    {
     "cell_type": "code",
     "collapsed": false,
     "input": [
      "method = Single()"
     ],
     "language": "python",
     "metadata": {},
     "outputs": []
    },
    {
     "cell_type": "heading",
     "level": 3,
     "metadata": {},
     "source": [
      "Set Parameters"
     ]
    },
    {
     "cell_type": "code",
     "collapsed": false,
     "input": [
      "params = {'direction':1,'polarity':'neg','matching_method':'multiple'}\n",
      "tol = 0.1"
     ],
     "language": "python",
     "metadata": {},
     "outputs": []
    },
    {
     "cell_type": "heading",
     "level": 2,
     "metadata": {},
     "source": [
      "Execute"
     ]
    },
    {
     "cell_type": "code",
     "collapsed": false,
     "input": [
      "block = method.execute(params=params,norm_data=problem.df_norm,der_data=problem.df_diff,tol=tol)\n",
      "print block"
     ],
     "language": "python",
     "metadata": {},
     "outputs": []
    },
    {
     "cell_type": "heading",
     "level": 3,
     "metadata": {},
     "source": [
      "Plot Result"
     ]
    },
    {
     "cell_type": "code",
     "collapsed": false,
     "input": [
      "plt.figure()\n",
      "if block is not None:\n",
      "    plt.plot_date(problem.df_orig.index,problem.df_orig,'-',label='original signal')\n",
      "    plt.plot_date(block.df.index,block.df,'o',label='detected block')\n",
      "    plt.ylabel(\"deltaP [W]\")\n",
      "    plt.legend()\n",
      "else:\n",
      "    print \"No block found\""
     ],
     "language": "python",
     "metadata": {},
     "outputs": []
    },
    {
     "cell_type": "heading",
     "level": 3,
     "metadata": {},
     "source": [
      "Plot drawable block"
     ]
    },
    {
     "cell_type": "code",
     "collapsed": false,
     "input": [
      "drawable = block.get_drawable()\n",
      "plt.figure()\n",
      "plt.plot_date(orig_data.index,orig_data,'-',label='original signal')\n",
      "plt.plot_date(problem.df_norm.index,problem.df_norm,'-')\n",
      "plt.plot_date(drawable.index,drawable,'-',label='drawable block')\n",
      "plt.legend()\n",
      "plt.ylabel('P [W]')"
     ],
     "language": "python",
     "metadata": {},
     "outputs": []
    },
    {
     "cell_type": "code",
     "collapsed": false,
     "input": [
      "print problem.df_diff"
     ],
     "language": "python",
     "metadata": {},
     "outputs": []
    },
    {
     "cell_type": "code",
     "collapsed": false,
     "input": [],
     "language": "python",
     "metadata": {},
     "outputs": []
    },
    {
     "cell_type": "code",
     "collapsed": false,
     "input": [],
     "language": "python",
     "metadata": {},
     "outputs": []
    },
    {
     "cell_type": "code",
     "collapsed": false,
     "input": [],
     "language": "python",
     "metadata": {},
     "outputs": []
    },
    {
     "cell_type": "code",
     "collapsed": false,
     "input": [],
     "language": "python",
     "metadata": {},
     "outputs": []
    }
   ],
   "metadata": {}
  }
 ]
}