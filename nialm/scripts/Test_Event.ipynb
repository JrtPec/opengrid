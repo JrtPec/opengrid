{
 "metadata": {
  "name": "",
  "signature": "sha256:0c48f3f851b8f548a889d0d6b5a5236a743828686ed7c16d0405aad9ba9e1792"
 },
 "nbformat": 3,
 "nbformat_minor": 0,
 "worksheets": [
  {
   "cells": [
    {
     "cell_type": "heading",
     "level": 1,
     "metadata": {},
     "source": [
      "Setup"
     ]
    },
    {
     "cell_type": "code",
     "collapsed": false,
     "input": [
      "import os,inspect,sys\n",
      "import pandas as pd\n",
      "import time\n",
      "import matplotlib.pyplot as plt"
     ],
     "language": "python",
     "metadata": {},
     "outputs": [],
     "prompt_number": 11
    },
    {
     "cell_type": "markdown",
     "metadata": {},
     "source": [
      "Add upper directory to script_dir so we can import packages from the library"
     ]
    },
    {
     "cell_type": "code",
     "collapsed": false,
     "input": [
      "script_dir = os.path.dirname(os.path.abspath(inspect.getfile(inspect.currentframe())))\n",
      "sys.path.append(os.path.join(script_dir, os.pardir, os.pardir))"
     ],
     "language": "python",
     "metadata": {},
     "outputs": [],
     "prompt_number": 12
    },
    {
     "cell_type": "markdown",
     "metadata": {},
     "source": [
      "Setup matplotlib so we can print plots right in this worksheet"
     ]
    },
    {
     "cell_type": "code",
     "collapsed": false,
     "input": [
      "%matplotlib inline\n",
      "plt.rcParams['figure.figsize'] = 16,8"
     ],
     "language": "python",
     "metadata": {},
     "outputs": [],
     "prompt_number": 14
    },
    {
     "cell_type": "heading",
     "level": 2,
     "metadata": {},
     "source": [
      "Set the start and end times for the experiment"
     ]
    },
    {
     "cell_type": "code",
     "collapsed": false,
     "input": [
      "start = pd.Timestamp(time.time() - 3600*24, unit='s') #24 hours ago\n",
      "start = start.replace(hour=20,minute=0, second=0) #start around 20h\n",
      "end = start.replace(minute=1)"
     ],
     "language": "python",
     "metadata": {},
     "outputs": [],
     "prompt_number": 16
    },
    {
     "cell_type": "markdown",
     "metadata": {},
     "source": [
      "Import method that fetches Flukso data"
     ]
    },
    {
     "cell_type": "code",
     "collapsed": false,
     "input": [
      "from nialm.library.get_data import get_flukso_data"
     ],
     "language": "python",
     "metadata": {},
     "outputs": [],
     "prompt_number": 13
    },
    {
     "cell_type": "markdown",
     "metadata": {},
     "source": [
      "Download Flukso data for all sensors of 1 type (default = electricity)"
     ]
    },
    {
     "cell_type": "code",
     "collapsed": false,
     "input": [
      "df = get_flukso_data(start,end)"
     ],
     "language": "python",
     "metadata": {},
     "outputs": [
      {
       "output_type": "stream",
       "stream": "stdout",
       "text": [
        "43 electricity sensors\n"
       ]
      },
      {
       "output_type": "stream",
       "stream": "stderr",
       "text": [
        "/Library/Python/2.7/site-packages/requests/packages/urllib3/connection.py:251: SecurityWarning: Certificate has no `subjectAltName`, falling back to check for a `commonName` for now. This feature is being removed by major browsers and deprecated by RFC 2818. (See https://github.com/shazow/urllib3/issues/497 for details.)\n",
        "  SecurityWarning\n"
       ]
      }
     ],
     "prompt_number": 30
    },
    {
     "cell_type": "heading",
     "level": 3,
     "metadata": {},
     "source": [
      "Take the derivative of the signal "
     ]
    },
    {
     "cell_type": "code",
     "collapsed": false,
     "input": [
      "df = df.diff()"
     ],
     "language": "python",
     "metadata": {},
     "outputs": [],
     "prompt_number": 32
    },
    {
     "cell_type": "markdown",
     "metadata": {},
     "source": [
      "Pick the first sensor and plot"
     ]
    },
    {
     "cell_type": "code",
     "collapsed": false,
     "input": [
      "for sensor in df:\n",
      "    plt.figure()\n",
      "    plt.plot_date(df.index,df[sensor],'-')\n",
      "    plt.ylabel(\"deltaP [W]\")\n",
      "    data = df[sensor]\n",
      "    break"
     ],
     "language": "python",
     "metadata": {},
     "outputs": []
    },
    {
     "cell_type": "heading",
     "level": 3,
     "metadata": {},
     "source": [
      "Filter out negative and positive values"
     ]
    },
    {
     "cell_type": "code",
     "collapsed": false,
     "input": [
      "negatives = data[data < 0]\n",
      "positives = data[data > 0]\n",
      "\n",
      "plt.figure()\n",
      "plt.plot_date(data.index,data,'-')\n",
      "plt.plot_date(positives.index,positives,'o',label='positives')\n",
      "plt.plot_date(negatives.index,negatives,'o',label='negatives')\n",
      "plt.ylabel(\"deltaP [W]\")\n",
      "plt.legend()"
     ],
     "language": "python",
     "metadata": {},
     "outputs": [
      {
       "metadata": {},
       "output_type": "pyout",
       "prompt_number": 49,
       "text": [
        "<matplotlib.legend.Legend at 0x10bdaded0>"
       ]
      },
      {
       "metadata": {},
       "output_type": "display_data",
       "png": "[encoded data removed]",
       "text": [
        "<matplotlib.figure.Figure at 0x10bdad2d0>"
       ]
      }
     ],
     "prompt_number": 49
    },
    {
     "cell_type": "heading",
     "level": 3,
     "metadata": {},
     "source": [
      "Pick the first and second negative point"
     ]
    },
    {
     "cell_type": "markdown",
     "metadata": {},
     "source": [
      "Note these two points might not actually represent a real event. They are just used to demonstrate the workings of the Event() class."
     ]
    },
    {
     "cell_type": "code",
     "collapsed": false,
     "input": [
      "neg_ix = negatives.index[0]\n",
      "neg_val = negatives[neg_ix]\n",
      "print neg_ix\n",
      "print neg_val\n",
      "\n",
      "neg_ix2 = negatives.index[1]\n",
      "neg_val2 = negatives[neg_ix2]\n",
      "print neg_ix2\n",
      "print neg_val2"
     ],
     "language": "python",
     "metadata": {},
     "outputs": [
      {
       "output_type": "stream",
       "stream": "stdout",
       "text": [
        "2015-02-09 20:00:05+00:00\n",
        "-1800.0\n",
        "2015-02-09 20:00:15+00:00\n",
        "-1800.0\n"
       ]
      }
     ],
     "prompt_number": 40
    },
    {
     "cell_type": "heading",
     "level": 1,
     "metadata": {},
     "source": [
      "IMPORT EVENT and begin test"
     ]
    },
    {
     "cell_type": "code",
     "collapsed": false,
     "input": [
      "from nialm.library.event import Event"
     ],
     "language": "python",
     "metadata": {},
     "outputs": [],
     "prompt_number": 41
    },
    {
     "cell_type": "heading",
     "level": 3,
     "metadata": {},
     "source": [
      "Make a test Event from the first point, add the second point"
     ]
    },
    {
     "cell_type": "code",
     "collapsed": false,
     "input": [
      "test_event = Event(neg_ix,neg_val)\n",
      "print test_event\n",
      "\n",
      "test_event.add_point(neg_ix2,neg_val2)\n",
      "print test_event"
     ],
     "language": "python",
     "metadata": {},
     "outputs": [
      {
       "output_type": "stream",
       "stream": "stdout",
       "text": [
        "Indexes:  [Timestamp('2015-02-09 20:00:05+0000', tz='UTC')]\n",
        "Values:  [-1800.0]\n",
        "\n",
        "Indexes:  [Timestamp('2015-02-09 20:00:05+0000', tz='UTC'), Timestamp('2015-02-09 20:00:15+0000', tz='UTC')]\n",
        "Values:  [-1800.0, -1800.0]\n",
        "\n"
       ]
      }
     ],
     "prompt_number": 42
    },
    {
     "cell_type": "heading",
     "level": 3,
     "metadata": {},
     "source": [
      "Test methods"
     ]
    },
    {
     "cell_type": "code",
     "collapsed": false,
     "input": [
      "print test_event.get_first_index()\n",
      "print test_event.get_last_index()\n",
      "print test_event.get_total_value()"
     ],
     "language": "python",
     "metadata": {},
     "outputs": [
      {
       "output_type": "stream",
       "stream": "stdout",
       "text": [
        "2015-02-09 20:00:05+00:00\n",
        "2015-02-09 20:00:15+00:00\n",
        "-3600.0\n"
       ]
      }
     ],
     "prompt_number": 43
    },
    {
     "cell_type": "heading",
     "level": 2,
     "metadata": {},
     "source": [
      "Plot Test Event"
     ]
    },
    {
     "cell_type": "code",
     "collapsed": false,
     "input": [
      "plt.figure()\n",
      "plt.plot_date(data.index,data,'-')\n",
      "plt.plot_date(test_event.indexes,test_event.values,'o',label=\"test event\")\n",
      "plt.ylabel(\"deltaP [W]\")\n",
      "plt.legend()"
     ],
     "language": "python",
     "metadata": {},
     "outputs": [
      {
       "metadata": {},
       "output_type": "pyout",
       "prompt_number": 51,
       "text": [
        "<matplotlib.legend.Legend at 0x10be0ff90>"
       ]
      },
      {
       "metadata": {},
       "output_type": "display_data",
       "png": "[encoded data removed]",
       "text": [
        "<matplotlib.figure.Figure at 0x10bdea650>"
       ]
      }
     ],
     "prompt_number": 51
    },
    {
     "cell_type": "code",
     "collapsed": false,
     "input": [],
     "language": "python",
     "metadata": {},
     "outputs": [],
     "prompt_number": 13
    }
   ],
   "metadata": {}
  }
 ]
}