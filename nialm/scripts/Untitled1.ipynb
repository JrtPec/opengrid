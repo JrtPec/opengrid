{
 "metadata": {
  "name": "",
  "signature": "sha256:6ac386e63cacfa29a617ec4ad5a1ffaadbefbe307a2b730f9231dfa54277e26f"
 },
 "nbformat": 3,
 "nbformat_minor": 0,
 "worksheets": []
}