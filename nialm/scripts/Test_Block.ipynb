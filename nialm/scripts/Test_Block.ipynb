{
 "metadata": {
  "name": "",
  "signature": "sha256:5e3b1fc673ebedef9b658010dceda42d5a818d8acbd0a9c1d46aff873b1112ab"
 },
 "nbformat": 3,
 "nbformat_minor": 0,
 "worksheets": [
  {
   "cells": [
    {
     "cell_type": "heading",
     "level": 1,
     "metadata": {},
     "source": [
      "Setup"
     ]
    },
    {
     "cell_type": "code",
     "collapsed": false,
     "input": [
      "import pandas as pd\n",
      "import time, os, inspect, sys\n",
      "import matplotlib.pyplot as plt"
     ],
     "language": "python",
     "metadata": {},
     "outputs": []
    },
    {
     "cell_type": "markdown",
     "metadata": {},
     "source": [
      "Add upper directory to script_dir so we can import packages from the library"
     ]
    },
    {
     "cell_type": "code",
     "collapsed": false,
     "input": [
      "script_dir = os.path.dirname(os.path.abspath(inspect.getfile(inspect.currentframe())))\n",
      "sys.path.append(os.path.join(script_dir, os.pardir, os.pardir))"
     ],
     "language": "python",
     "metadata": {},
     "outputs": []
    },
    {
     "cell_type": "markdown",
     "metadata": {},
     "source": [
      "Setup matplotlib so we can print plots right in this worksheet"
     ]
    },
    {
     "cell_type": "code",
     "collapsed": false,
     "input": [
      "%matplotlib inline\n",
      "plt.rcParams['figure.figsize'] = 16,8"
     ],
     "language": "python",
     "metadata": {},
     "outputs": []
    },
    {
     "cell_type": "heading",
     "level": 3,
     "metadata": {},
     "source": [
      "Set the start and end times for the experiment"
     ]
    },
    {
     "cell_type": "code",
     "collapsed": false,
     "input": [
      "start = pd.Timestamp(time.time() - 3600*24, unit='s') #24 hours ago\n",
      "start = start.replace(hour=20,minute=0, second=0) #start around 20h\n",
      "end = start.replace(minute=3)"
     ],
     "language": "python",
     "metadata": {},
     "outputs": []
    },
    {
     "cell_type": "markdown",
     "metadata": {},
     "source": [
      "Import method that fetches Flukso data"
     ]
    },
    {
     "cell_type": "code",
     "collapsed": false,
     "input": [
      "from nialm.library.get_data import get_flukso_data"
     ],
     "language": "python",
     "metadata": {},
     "outputs": []
    },
    {
     "cell_type": "markdown",
     "metadata": {},
     "source": [
      "Download Flukso data for all sensors of 1 type (default = electricity)"
     ]
    },
    {
     "cell_type": "code",
     "collapsed": false,
     "input": [
      "df = get_flukso_data(start,end)"
     ],
     "language": "python",
     "metadata": {},
     "outputs": []
    },
    {
     "cell_type": "heading",
     "level": 3,
     "metadata": {},
     "source": [
      "Pick the first sensor and plot"
     ]
    },
    {
     "cell_type": "code",
     "collapsed": false,
     "input": [
      "for sensor in df:\n",
      "    orig_data = df[sensor]\n",
      "    data = df[sensor].diff() #take the derivative\n",
      "    \n",
      "    plt.figure()\n",
      "    plt.plot_date(data.index,data,'-')\n",
      "    plt.ylabel(\"deltaP [W]\")\n",
      "    break"
     ],
     "language": "python",
     "metadata": {},
     "outputs": []
    },
    {
     "cell_type": "heading",
     "level": 3,
     "metadata": {},
     "source": [
      "Filter out negative and positive values"
     ]
    },
    {
     "cell_type": "code",
     "collapsed": false,
     "input": [
      "negatives = data[data < 0]\n",
      "positives = data[data > 0]\n",
      "\n",
      "plt.figure()\n",
      "plt.plot_date(data.index,data,'-')\n",
      "plt.plot_date(positives.index,positives,'o',label='positives')\n",
      "plt.plot_date(negatives.index,negatives,'o',label='negatives')\n",
      "plt.ylabel(\"deltaP [W]\")\n",
      "plt.legend()"
     ],
     "language": "python",
     "metadata": {},
     "outputs": []
    },
    {
     "cell_type": "heading",
     "level": 2,
     "metadata": {},
     "source": [
      "Pick the first positive and negative point and make two Events"
     ]
    },
    {
     "cell_type": "markdown",
     "metadata": {},
     "source": [
      "Mind that these two points might not form a correct event, and the combination of the two events might not form a correct Block. This is only to test the methods of the Block() class"
     ]
    },
    {
     "cell_type": "code",
     "collapsed": false,
     "input": [
      "from nialm.library.event import Event"
     ],
     "language": "python",
     "metadata": {},
     "outputs": []
    },
    {
     "cell_type": "code",
     "collapsed": false,
     "input": [
      "neg_ix = negatives.index[2]#.first_valid_index()\n",
      "neg_val = negatives[neg_ix]\n",
      "off_event = Event(neg_ix,neg_val)\n",
      "\n",
      "pos_ix = positives.index[0]#.first_valid_index()\n",
      "pos_val = positives[pos_ix]\n",
      "on_event = Event(pos_ix,pos_val)\n",
      "pos_ix = positives.index[1]\n",
      "pos_val = positives[pos_ix]\n",
      "on_event.add_point(pos_ix,pos_val)\n",
      "pos_ix = positives.index[2]\n",
      "pos_val = positives[pos_ix]\n",
      "on_event.add_point(pos_ix,pos_val)\n",
      "\n",
      "print off_event\n",
      "print on_event"
     ],
     "language": "python",
     "metadata": {},
     "outputs": []
    },
    {
     "cell_type": "heading",
     "level": 3,
     "metadata": {},
     "source": [
      "Plot the two events"
     ]
    },
    {
     "cell_type": "code",
     "collapsed": false,
     "input": [
      "plt.figure()\n",
      "plt.plot_date(data.index,data,'-')\n",
      "plt.plot_date(on_event.indexes,on_event.values,'o',label=\"on event\")\n",
      "plt.plot_date(off_event.indexes,off_event.values,'o',label=\"off event\")\n",
      "plt.ylabel('deltaP [W]')\n",
      "plt.legend()"
     ],
     "language": "python",
     "metadata": {},
     "outputs": []
    },
    {
     "cell_type": "heading",
     "level": 1,
     "metadata": {},
     "source": [
      "IMPORT BLOCK and begin test"
     ]
    },
    {
     "cell_type": "code",
     "collapsed": false,
     "input": [
      "from nialm.library.block import Block"
     ],
     "language": "python",
     "metadata": {},
     "outputs": []
    },
    {
     "cell_type": "heading",
     "level": 2,
     "metadata": {},
     "source": [
      "Create a test block"
     ]
    },
    {
     "cell_type": "code",
     "collapsed": false,
     "input": [
      "test_block = Block(on_event,off_event)\n",
      "print test_block"
     ],
     "language": "python",
     "metadata": {},
     "outputs": []
    },
    {
     "cell_type": "heading",
     "level": 3,
     "metadata": {},
     "source": [
      "Test methods"
     ]
    },
    {
     "cell_type": "code",
     "collapsed": false,
     "input": [
      "print test_block.get_duration()\n",
      "print test_block.get_avg_power()\n",
      "print test_block.get_score()"
     ],
     "language": "python",
     "metadata": {},
     "outputs": []
    },
    {
     "cell_type": "heading",
     "level": 2,
     "metadata": {},
     "source": [
      "Plot test block"
     ]
    },
    {
     "cell_type": "code",
     "collapsed": false,
     "input": [
      "plt.figure()\n",
      "plt.plot_date(data.index,data,'-')\n",
      "plt.plot_date(test_block.df.index,test_block.df,'o',label=\"test_block\")\n",
      "plt.ylabel('deltaP [W]')\n",
      "plt.legend()"
     ],
     "language": "python",
     "metadata": {},
     "outputs": []
    },
    {
     "cell_type": "heading",
     "level": 2,
     "metadata": {},
     "source": [
      "Plot drawable block"
     ]
    },
    {
     "cell_type": "markdown",
     "metadata": {},
     "source": [
      "This is the block, reversed to the instantaneous power"
     ]
    },
    {
     "cell_type": "code",
     "collapsed": false,
     "input": [
      "drawable = test_block.get_drawable()\n",
      "plt.figure()\n",
      "plt.plot_date(orig_data.index,orig_data,'-',label='original signal')\n",
      "plt.plot_date(drawable.index,drawable,'-',label='drawable block')\n",
      "plt.legend()\n",
      "plt.ylabel('P [W]')"
     ],
     "language": "python",
     "metadata": {},
     "outputs": []
    },
    {
     "cell_type": "heading",
     "level": 2,
     "metadata": {},
     "source": [
      "Remove block from original signal and plot remaining signal"
     ]
    },
    {
     "cell_type": "code",
     "collapsed": false,
     "input": [
      "plt.figure()\n",
      "plt.plot_date(orig_data.index,orig_data,'-',label=\"Signal before removal\")\n",
      "test_block.remove_block_from_signal(norm_data=orig_data)\n",
      "plt.plot_date(orig_data.index,orig_data,'-',label=\"Signal after removal\")\n",
      "plt.legend()\n",
      "plt.ylabel('deltaP [W]')\n"
     ],
     "language": "python",
     "metadata": {},
     "outputs": []
    },
    {
     "cell_type": "heading",
     "level": 2,
     "metadata": {},
     "source": [
      "Remove block from derived signal and plot remaining signal"
     ]
    },
    {
     "cell_type": "code",
     "collapsed": false,
     "input": [
      "plt.figure()\n",
      "plt.plot_date(data.index,data,'-',label=\"Signal before removal\")\n",
      "test_block.remove_block_from_signal(der_data=data)\n",
      "plt.plot_date(data.index,data,'-',label=\"Signal after removal\")\n",
      "plt.legend()\n",
      "plt.ylabel('deltaP [W]')"
     ],
     "language": "python",
     "metadata": {},
     "outputs": []
    },
    {
     "cell_type": "heading",
     "level": 2,
     "metadata": {},
     "source": [
      "Test is_valid method"
     ]
    },
    {
     "cell_type": "code",
     "collapsed": false,
     "input": [
      "orig_signal = orig_data[test_block.df.first_valid_index():test_block.df[::-1].first_valid_index()]\n",
      "plt.plot_date(orig_signal.index,orig_signal,'-')\n",
      "plt.plot_date(drawable.index,drawable,'-')\n",
      "\n",
      "print orig_signal.mean()\n",
      "print test_block.get_avg_power()\n",
      "print test_block.is_valid(norm_signal=orig_data)"
     ],
     "language": "python",
     "metadata": {},
     "outputs": []
    },
    {
     "cell_type": "code",
     "collapsed": false,
     "input": [],
     "language": "python",
     "metadata": {},
     "outputs": []
    }
   ],
   "metadata": {}
  }
 ]
}