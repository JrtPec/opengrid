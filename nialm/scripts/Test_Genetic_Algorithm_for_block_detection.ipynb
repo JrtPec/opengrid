{
 "metadata": {
  "name": "",
  "signature": "sha256:8e22b0ca546fc031fc2a09069824a56943d2ce3581cca2532c61b23e2a85383d"
 },
 "nbformat": 3,
 "nbformat_minor": 0,
 "worksheets": [
  {
   "cells": [
    {
     "cell_type": "code",
     "collapsed": false,
     "input": [
      "import pandas as pd\n",
      "import time, os, sys, inspect\n",
      "import matplotlib.pyplot as plt\n",
      "import numpy as np\n",
      "%matplotlib inline\n",
      "plt.rcParams['figure.figsize'] = 16,8"
     ],
     "language": "python",
     "metadata": {},
     "outputs": []
    },
    {
     "cell_type": "code",
     "collapsed": false,
     "input": [
      "script_dir = os.path.dirname(os.path.abspath(inspect.getfile(inspect.currentframe())))\n",
      "sys.path.append(os.path.join(script_dir, os.pardir, os.pardir))"
     ],
     "language": "python",
     "metadata": {},
     "outputs": []
    },
    {
     "cell_type": "code",
     "collapsed": false,
     "input": [
      "start = pd.Timestamp(time.time() - 3600*24, unit='s') #24 hours ago\n",
      "start = start.replace(hour=20,minute=0, second=0) #start around 20h\n",
      "end = start.replace(minute=10)"
     ],
     "language": "python",
     "metadata": {},
     "outputs": []
    },
    {
     "cell_type": "code",
     "collapsed": false,
     "input": [
      "from nialm.library.get_data import get_flukso_data"
     ],
     "language": "python",
     "metadata": {},
     "outputs": []
    },
    {
     "cell_type": "code",
     "collapsed": false,
     "input": [
      "df = get_flukso_data(start,end)"
     ],
     "language": "python",
     "metadata": {},
     "outputs": []
    },
    {
     "cell_type": "code",
     "collapsed": false,
     "input": [
      "from nialm.library.problems import *\n",
      "#pick a sensor\n",
      "sensor = '214ef2d3533899dbf633caeb32e80483'\n",
      "problem = Disaggregation_problem(orig_data=df[sensor])\n",
      "\n",
      "plt.figure()\n",
      "plt.plot_date(problem.df_orig.index,problem.df_orig,'-',label=\"Instantaneous Power\")\n",
      "plt.plot_date(problem.df_diff_full.index,problem.df_diff_full,'-',label=\"1st Derivative\")\n",
      "plt.plot_date(problem.df_diff.index,problem.df_diff,'o',label=\"Flanks\")\n",
      "plt.figtext(0.5,0.95,[\"Detection Ceiling = \",problem.score_ceiling,\" Wh\"], fontsize=14, ha='center')"
     ],
     "language": "python",
     "metadata": {},
     "outputs": []
    },
    {
     "cell_type": "code",
     "collapsed": false,
     "input": [
      "from nialm.library.genetic.genetic import extract_events"
     ],
     "language": "python",
     "metadata": {},
     "outputs": []
    },
    {
     "cell_type": "heading",
     "level": 1,
     "metadata": {},
     "source": [
      "Run Genetic Algorithm"
     ]
    },
    {
     "cell_type": "code",
     "collapsed": false,
     "input": [
      "winner = extract_events(problem=problem,generations=10,pop_size=20)\n",
      "print winner"
     ],
     "language": "python",
     "metadata": {},
     "outputs": []
    },
    {
     "cell_type": "heading",
     "level": 1,
     "metadata": {},
     "source": [
      "Plot found blocks"
     ]
    },
    {
     "cell_type": "code",
     "collapsed": false,
     "input": [
      "plt.figure()\n",
      "plt.plot_date(winner.problem.df_orig.index,winner.problem.df_orig,'-')\n",
      "plt.ylabel('Power [W]')\n",
      "for part in winner.parts:\n",
      "    block = part.get_drawable()\n",
      "    plt.plot_date(block.index,block,'-')"
     ],
     "language": "python",
     "metadata": {},
     "outputs": []
    },
    {
     "cell_type": "heading",
     "level": 1,
     "metadata": {},
     "source": [
      "Create Scatter Graph of found blocks"
     ]
    },
    {
     "cell_type": "code",
     "collapsed": false,
     "input": [
      "x = []\n",
      "y = []\n",
      "for part in winner.parts:\n",
      "    x.append(part.get_duration())\n",
      "    y.append(part.get_avg_power())\n",
      "\n",
      "colors = np.random.rand(len(winner.parts))\n",
      "\n",
      "plt.figure()\n",
      "plt.scatter(x,y, s=200,c=colors, alpha=0.5)\n",
      "plt.xlabel('Duration [s]')\n",
      "plt.ylabel('Power [s]')\n",
      "plt.grid()\n",
      "plt.show()"
     ],
     "language": "python",
     "metadata": {},
     "outputs": []
    },
    {
     "cell_type": "heading",
     "level": 1,
     "metadata": {},
     "source": [
      "Profile genetic algorithm"
     ]
    },
    {
     "cell_type": "code",
     "collapsed": false,
     "input": [
      "import cProfile\n",
      "cProfile.run('extract_events(problem=problem,generations=10,pop_size=20)',sort=2)"
     ],
     "language": "python",
     "metadata": {},
     "outputs": []
    },
    {
     "cell_type": "code",
     "collapsed": false,
     "input": [],
     "language": "python",
     "metadata": {},
     "outputs": []
    }
   ],
   "metadata": {}
  }
 ]
}