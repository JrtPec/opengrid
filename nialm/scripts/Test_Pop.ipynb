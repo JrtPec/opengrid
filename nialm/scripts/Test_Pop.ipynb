{
 "metadata": {
  "name": "",
  "signature": "sha256:2fafcba0610f0696058b6d5c810ec37864c357dd59c9825a7409f26515a24b05"
 },
 "nbformat": 3,
 "nbformat_minor": 0,
 "worksheets": [
  {
   "cells": [
    {
     "cell_type": "heading",
     "level": 1,
     "metadata": {},
     "source": [
      "Setup"
     ]
    },
    {
     "cell_type": "code",
     "collapsed": false,
     "input": [
      "import pandas as pd\n",
      "import time,os,sys,inspect\n",
      "import matplotlib.pyplot as plt\n",
      "%matplotlib inline\n",
      "plt.rcParams['figure.figsize'] = 16,8"
     ],
     "language": "python",
     "metadata": {},
     "outputs": [],
     "prompt_number": 2
    },
    {
     "cell_type": "code",
     "collapsed": false,
     "input": [
      "script_dir = os.path.dirname(os.path.abspath(inspect.getfile(inspect.currentframe())))\n",
      "sys.path.append(os.path.join(script_dir, os.pardir, os.pardir))"
     ],
     "language": "python",
     "metadata": {},
     "outputs": [],
     "prompt_number": 3
    },
    {
     "cell_type": "code",
     "collapsed": false,
     "input": [
      "start = pd.Timestamp(time.time() - 3600*24, unit='s') #24 hours ago\n",
      "start = start.replace(hour=20,minute=0, second=0) #start around 20h\n",
      "end = start.replace(minute=10)"
     ],
     "language": "python",
     "metadata": {},
     "outputs": [],
     "prompt_number": 4
    },
    {
     "cell_type": "code",
     "collapsed": false,
     "input": [
      "from nialm.library.get_data import get_flukso_data"
     ],
     "language": "python",
     "metadata": {},
     "outputs": [],
     "prompt_number": 5
    },
    {
     "cell_type": "code",
     "collapsed": false,
     "input": [
      "df = get_flukso_data(start,end)"
     ],
     "language": "python",
     "metadata": {},
     "outputs": [
      {
       "output_type": "stream",
       "stream": "stdout",
       "text": [
        "43 electricity sensors\n"
       ]
      },
      {
       "output_type": "stream",
       "stream": "stderr",
       "text": [
        "/Library/Python/2.7/site-packages/requests/packages/urllib3/connection.py:251: SecurityWarning: Certificate has no `subjectAltName`, falling back to check for a `commonName` for now. This feature is being removed by major browsers and deprecated by RFC 2818. (See https://github.com/shazow/urllib3/issues/497 for details.)\n",
        "  SecurityWarning\n",
        "/Library/Python/2.7/site-packages/requests/packages/urllib3/connection.py:251: SecurityWarning: Certificate has no `subjectAltName`, falling back to check for a `commonName` for now. This feature is being removed by major browsers and deprecated by RFC 2818. (See https://github.com/shazow/urllib3/issues/497 for details.)\n",
        "  SecurityWarning\n"
       ]
      }
     ],
     "prompt_number": 6
    },
    {
     "cell_type": "code",
     "collapsed": false,
     "input": [
      "from nialm.library.problems import *"
     ],
     "language": "python",
     "metadata": {},
     "outputs": [],
     "prompt_number": 7
    },
    {
     "cell_type": "heading",
     "level": 1,
     "metadata": {},
     "source": [
      "Create Problem and plot summary"
     ]
    },
    {
     "cell_type": "code",
     "collapsed": false,
     "input": [
      "#pick a sensor\n",
      "sensor = '214ef2d3533899dbf633caeb32e80483'\n",
      "problem = Disaggregation_problem(orig_data=df[sensor])\n",
      "\n",
      "plt.figure()\n",
      "plt.plot_date(problem.df_orig.index,problem.df_orig,'-',label=\"Instantaneous Power\")\n",
      "plt.plot_date(problem.df_diff_full.index,problem.df_diff_full,'-',label=\"1st Derivative\")\n",
      "plt.plot_date(problem.df_diff.index,problem.df_diff,'o',label=\"Flanks\")\n",
      "plt.figtext(0.5,0.95,[\"Detection Ceiling = \",problem.score_ceiling,\" Wh\"], fontsize=14, ha='center')"
     ],
     "language": "python",
     "metadata": {},
     "outputs": [
      {
       "metadata": {},
       "output_type": "pyout",
       "prompt_number": 8,
       "text": [
        "<matplotlib.text.Text at 0x11460ccd0>"
       ]
      },
      {
       "metadata": {},
       "output_type": "display_data",
       "png": "[encoded data removed]",
       "text": [
        "<matplotlib.figure.Figure at 0x1145fbe10>"
       ]
      }
     ],
     "prompt_number": 8
    },
    {
     "cell_type": "heading",
     "level": 1,
     "metadata": {},
     "source": [
      "IMPORT POPULATION and begin test"
     ]
    },
    {
     "cell_type": "code",
     "collapsed": false,
     "input": [
      "from nialm.library.genetic.population import Population"
     ],
     "language": "python",
     "metadata": {},
     "outputs": [],
     "prompt_number": 9
    },
    {
     "cell_type": "code",
     "collapsed": false,
     "input": [
      "test_pop = Population(size=10,problem=problem)\n",
      "print test_pop\n",
      "print test_pop.individuals"
     ],
     "language": "python",
     "metadata": {},
     "outputs": [
      {
       "output_type": "stream",
       "stream": "stdout",
       "text": [
        "<nialm.library.genetic.population.Population object at 0x116cd05d0>\n",
        "Number of genes:  40\n",
        "Score:  14.6222222186\n",
        "Ceiling:  75.1126491427\n",
        "Solution percentage:  19.4670569944 %\n",
        "Number of genes:  40\n",
        "Score:  14.6222222186\n",
        "Ceiling:  75.1126491427\n",
        "Solution percentage:  19.4670569944 %\n",
        "Number of genes:  40\n",
        "Score:  14.6222222186\n",
        "Ceiling:  75.1126491427\n",
        "Solution percentage:  19.4670569944 %\n",
        "Number of genes:  40\n",
        "Score:  14.6222222186\n",
        "Ceiling:  75.1126491427\n",
        "Solution percentage:  19.4670569944 %\n",
        "Number of genes:  40\n",
        "Score:  14.6222222186\n",
        "Ceiling:  75.1126491427\n",
        "Solution percentage:  19.4670569944 %\n",
        "Number of genes:  40\n",
        "Score:  14.6222222186\n",
        "Ceiling:  75.1126491427\n",
        "Solution percentage:  19.4670569944 %\n",
        "Number of genes:  40\n",
        "Score:  14.6222222186\n",
        "Ceiling:  75.1126491427\n",
        "Solution percentage:  19.4670569944 %\n",
        "Number of genes:  40\n",
        "Score:  14.6222222186\n",
        "Ceiling:  75.1126491427\n",
        "Solution percentage:  19.4670569944 %\n",
        "Number of genes:  40\n",
        "Score:  "
       ]
      },
      {
       "output_type": "stream",
       "stream": "stdout",
       "text": [
        "14.6222222186\n",
        "Ceiling:  75.1126491427\n",
        "Solution percentage:  19.4670569944 %\n",
        "Number of genes:  40\n",
        "Score:  14.6222222186\n",
        "Ceiling:  75.1126491427\n",
        "Solution percentage:  19.4670569944 %\n",
        "[, , , , , , , , , ]\n"
       ]
      }
     ],
     "prompt_number": 19
    },
    {
     "cell_type": "heading",
     "level": 1,
     "metadata": {},
     "source": [
      "Test methods"
     ]
    },
    {
     "cell_type": "code",
     "collapsed": false,
     "input": [
      "test_pop.sort()\n",
      "print test_pop.individuals"
     ],
     "language": "python",
     "metadata": {},
     "outputs": [
      {
       "output_type": "stream",
       "stream": "stdout",
       "text": [
        "Number of genes:  40\n",
        "Score:  14.6222222186\n",
        "Ceiling:  75.1126491427\n",
        "Solution percentage:  19.4670569944 %\n",
        "Number of genes:  40\n",
        "Score:  14.6222222186\n",
        "Ceiling:  75.1126491427\n",
        "Solution percentage:  19.4670569944 %\n",
        "Number of genes:  40\n",
        "Score:  14.6222222186\n",
        "Ceiling:  75.1126491427\n",
        "Solution percentage:  19.4670569944 %\n",
        "Number of genes:  40\n",
        "Score:  14.6222222186\n",
        "Ceiling:  75.1126491427\n",
        "Solution percentage:  19.4670569944 %\n",
        "Number of genes:  40\n",
        "Score:  14.6222222186\n",
        "Ceiling:  75.1126491427\n",
        "Solution percentage:  19.4670569944 %\n",
        "Number of genes:  40\n",
        "Score:  "
       ]
      },
      {
       "output_type": "stream",
       "stream": "stdout",
       "text": [
        "14.6222222186\n",
        "Ceiling:  75.1126491427\n",
        "Solution percentage:  19.4670569944 %\n",
        "Number of genes:  40\n",
        "Score:  14.6222222186\n",
        "Ceiling:  75.1126491427\n",
        "Solution percentage:  19.4670569944 %\n",
        "Number of genes:  40\n",
        "Score:  14.6222222186\n",
        "Ceiling:  75.1126491427\n",
        "Solution percentage:  19.4670569944 %\n",
        "Number of genes:  40\n",
        "Score:  14.6222222186\n",
        "Ceiling:  75.1126491427\n",
        "Solution percentage:  19.4670569944 %\n",
        "Number of genes:  40\n",
        "Score:  14.6222222186\n",
        "Ceiling:  75.1126491427\n",
        "Solution percentage:  19.4670569944 %\n",
        "[, , , , , , , , , ]\n"
       ]
      }
     ],
     "prompt_number": 20
    },
    {
     "cell_type": "code",
     "collapsed": false,
     "input": [
      "print test_pop.get_best()"
     ],
     "language": "python",
     "metadata": {},
     "outputs": [
      {
       "output_type": "stream",
       "stream": "stdout",
       "text": [
        "Number of genes:  40\n",
        "Score:  14.6222222186\n",
        "Ceiling:  75.1126491427\n",
        "Solution percentage:  19.4670569944 %\n",
        "\n"
       ]
      }
     ],
     "prompt_number": 21
    },
    {
     "cell_type": "heading",
     "level": 1,
     "metadata": {},
     "source": [
      "Test Evolution"
     ]
    },
    {
     "cell_type": "code",
     "collapsed": false,
     "input": [
      "test_pop.evolve(elitism=1,breeding_percentage=0.5)\n",
      "print test_pop.individuals"
     ],
     "language": "python",
     "metadata": {},
     "outputs": [
      {
       "output_type": "stream",
       "stream": "stdout",
       "text": [
        "Number of genes:  40\n",
        "Score:  14.6222222186\n",
        "Ceiling:  75.1126491427\n",
        "Solution percentage:  19.4670569944 %\n",
        "Number of genes:  40\n",
        "Score:  14.6222222186\n",
        "Ceiling:  75.1126491427\n",
        "Solution percentage:  19.4670569944 %\n",
        "Number of genes:  40\n",
        "Score:  14.6222222186\n",
        "Ceiling:  75.1126491427\n",
        "Solution percentage:  19.4670569944 %\n",
        "Number of genes:  40\n",
        "Score:  14.6222222186\n",
        "Ceiling:  75.1126491427\n",
        "Solution percentage:  19.4670569944 %\n",
        "Number of genes:  40\n",
        "Score:  14.6222222186\n",
        "Ceiling:  75.1126491427\n",
        "Solution percentage:  19.4670569944 %\n",
        "Number of genes:  40\n",
        "Score:  14.6222222186\n",
        "Ceiling:  75.1126491427\n",
        "Solution percentage:  19.4670569944 %\n",
        "Number of genes:  40\n",
        "Score:  14.6222222186\n",
        "Ceiling:  75.1126491427\n",
        "Solution percentage:  19.4670569944 %\n",
        "Number of genes:  40\n",
        "Score:  "
       ]
      },
      {
       "output_type": "stream",
       "stream": "stdout",
       "text": [
        "14.6222222186\n",
        "Ceiling:  75.1126491427\n",
        "Solution percentage:  19.4670569944 %\n",
        "Number of genes:  40\n",
        "Score:  14.6222222186\n",
        "Ceiling:  75.1126491427\n",
        "Solution percentage:  19.4670569944 %\n",
        "Number of genes:  40\n",
        "Score:  14.6222222186\n",
        "Ceiling:  75.1126491427\n",
        "Solution percentage:  19.4670569944 %\n",
        "[, , , , , , , , , ]\n"
       ]
      }
     ],
     "prompt_number": 25
    },
    {
     "cell_type": "code",
     "collapsed": false,
     "input": [],
     "language": "python",
     "metadata": {},
     "outputs": []
    }
   ],
   "metadata": {}
  }
 ]
}