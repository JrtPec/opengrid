{
 "metadata": {
  "name": "",
  "signature": "sha256:3df5350da558ed1852807919f209f2e8ba2fbdfb7e608e01663909ddad2ab035"
 },
 "nbformat": 3,
 "nbformat_minor": 0,
 "worksheets": [
  {
   "cells": [
    {
     "cell_type": "code",
     "collapsed": false,
     "input": [
      "import pandas as pd\n",
      "import time, os, sys, inspect\n",
      "import matplotlib.pyplot as plt\n",
      "import numpy as np\n",
      "%matplotlib inline\n",
      "plt.rcParams['figure.figsize'] = 16,8"
     ],
     "language": "python",
     "metadata": {},
     "outputs": []
    },
    {
     "cell_type": "code",
     "collapsed": false,
     "input": [
      "script_dir = os.path.dirname(os.path.abspath(inspect.getfile(inspect.currentframe())))\n",
      "sys.path.append(os.path.join(script_dir, os.pardir, os.pardir))"
     ],
     "language": "python",
     "metadata": {},
     "outputs": []
    },
    {
     "cell_type": "code",
     "collapsed": false,
     "input": [
      "start = pd.Timestamp(time.time() - 3600*24, unit='s') #24 hours ago\n",
      "start = start.replace(hour=18,minute=0, second=0) #start around 20h\n",
      "end = start.replace(hour=18,minute=10,second=0)"
     ],
     "language": "python",
     "metadata": {},
     "outputs": []
    },
    {
     "cell_type": "code",
     "collapsed": false,
     "input": [
      "from nialm.library.get_data import get_flukso_data"
     ],
     "language": "python",
     "metadata": {},
     "outputs": []
    },
    {
     "cell_type": "code",
     "collapsed": false,
     "input": [
      "df = get_flukso_data(start,end,sensor='214ef2d3533899dbf633caeb32e80483',token='7d964f8a361a1273594161c67a8ac31e')"
     ],
     "language": "python",
     "metadata": {},
     "outputs": []
    },
    {
     "cell_type": "code",
     "collapsed": false,
     "input": [
      "from nialm.library.problems import *\n",
      "#pick a sensor\n",
      "#sensor = '214ef2d3533899dbf633caeb32e80483'\n",
      "#problem = Disaggregation_problem(orig_data=df[sensor],mutation_rate=0.1)\n",
      "problem = Disaggregation_problem(orig_data=df,mutation_rate=0.5)\n",
      "\n",
      "plt.figure()\n",
      "plt.plot_date(problem.df_orig.index,problem.df_orig,'-',label=\"Instantaneous Power\")\n",
      "plt.plot_date(problem.df_norm.index,problem.df_norm,'-',label=\"Normalized Instantaneous Power\")\n",
      "plt.plot_date(problem.df_diff_full.index,problem.df_diff_full,'-',label=\"1st Derivative\")\n",
      "plt.plot_date(problem.df_diff.index,problem.df_diff,'o',label=\"Flanks\")\n",
      "plt.figtext(0.5,0.95,[\"Detection Ceiling = \",problem.score_ceiling,\" Wh\"], fontsize=14, ha='center')\n",
      "plt.legend()"
     ],
     "language": "python",
     "metadata": {},
     "outputs": []
    },
    {
     "cell_type": "code",
     "collapsed": false,
     "input": [
      "pop_size = 5\n",
      "num_parents = 2\n",
      "tol = 0.1\n",
      "elitism = 1"
     ],
     "language": "python",
     "metadata": {},
     "outputs": []
    },
    {
     "cell_type": "heading",
     "level": 1,
     "metadata": {},
     "source": [
      "Test a Population"
     ]
    },
    {
     "cell_type": "code",
     "collapsed": false,
     "input": [
      "from nialm.library.genetic.population import Population\n",
      "pop = Population(size=pop_size,problem=problem)\n",
      "print pop"
     ],
     "language": "python",
     "metadata": {},
     "outputs": []
    },
    {
     "cell_type": "code",
     "collapsed": false,
     "input": [
      "for individual in pop.individuals[:]:\n",
      "    print individual"
     ],
     "language": "python",
     "metadata": {},
     "outputs": []
    },
    {
     "cell_type": "heading",
     "level": 1,
     "metadata": {},
     "source": [
      "Evolve the Population"
     ]
    },
    {
     "cell_type": "code",
     "collapsed": false,
     "input": [
      "from itertools import izip_longest\n",
      "from nialm.library.genetic.individual import Individual\n",
      "def breed(parentA,parentB):\n",
      "    \n",
      "    genes = []\n",
      "    for geneA,geneB in izip_longest(parentA.genes,parentB.genes,fillvalue=None):\n",
      "        gene = random.choice([geneA,geneB])\n",
      "        if gene is not None:\n",
      "            genes.append(gene)\n",
      "        else:\n",
      "            break\n",
      "\n",
      "    return Individual(problem=parentA.problem,genes=genes)"
     ],
     "language": "python",
     "metadata": {},
     "outputs": []
    },
    {
     "cell_type": "code",
     "collapsed": false,
     "input": [
      "import random\n",
      "pop.sort()\n",
      "top = pop.individuals[:num_parents]\n",
      "for i,individual in enumerate(pop.individuals):\n",
      "    if i < elitism: continue\n",
      "    parentA,parentB = random.sample(top,2)\n",
      "    pop.individuals[i] = breed(parentA,parentB)\n",
      "    print pop.individuals[i]\n",
      "    print pop.individuals[i].genes\n",
      "    print \"NEW INDIVIDUAL\""
     ],
     "language": "python",
     "metadata": {},
     "outputs": []
    },
    {
     "cell_type": "heading",
     "level": 2,
     "metadata": {},
     "source": [
      "Test an Individual"
     ]
    },
    {
     "cell_type": "code",
     "collapsed": false,
     "input": [
      "from nialm.library.genetic.individual import Individual\n",
      "ind = Individual(problem=problem)\n",
      "print ind"
     ],
     "language": "python",
     "metadata": {},
     "outputs": []
    },
    {
     "cell_type": "code",
     "collapsed": false,
     "input": [
      "plt.figure()\n",
      "plt.plot_date(ind.norm_data.index,ind.norm_data,'-')\n",
      "plt.plot_date(ind.der_data.index,ind.der_data,'o')\n",
      "print ind.der_data"
     ],
     "language": "python",
     "metadata": {},
     "outputs": []
    },
    {
     "cell_type": "heading",
     "level": 3,
     "metadata": {},
     "source": [
      "Test a gene"
     ]
    },
    {
     "cell_type": "code",
     "collapsed": false,
     "input": [
      "from nialm.library.genetic.gene import Gene\n",
      "gene = Gene(methodlist=problem.methodlist)\n",
      "print gene"
     ],
     "language": "python",
     "metadata": {},
     "outputs": []
    },
    {
     "cell_type": "code",
     "collapsed": false,
     "input": [
      "block = gene.exec_method(der_data=ind.der_data,norm_data=ind.norm_data,tol=tol)\n",
      "print block"
     ],
     "language": "python",
     "metadata": {},
     "outputs": []
    },
    {
     "cell_type": "heading",
     "level": 4,
     "metadata": {},
     "source": [
      "Test Method"
     ]
    },
    {
     "cell_type": "code",
     "collapsed": false,
     "input": [
      "from nialm.library.block_detection_methods import *\n",
      "method = Single_to_single()\n",
      "print method"
     ],
     "language": "python",
     "metadata": {},
     "outputs": []
    },
    {
     "cell_type": "code",
     "collapsed": false,
     "input": [
      "params = {'direction':-1,'polarity':'neg'}\n",
      "block = method.execute(params=params, norm_data=ind.norm_data,der_data=ind.der_data,tol=tol)\n",
      "print block\n",
      "print block.is_valid(norm_signal=ind.norm_data)"
     ],
     "language": "python",
     "metadata": {},
     "outputs": []
    },
    {
     "cell_type": "code",
     "collapsed": false,
     "input": [
      "drawable = block.get_drawable()\n",
      "plt.plot_date(ind.norm_data.index,ind.norm_data,'-')\n",
      "plt.plot_date(drawable.index,drawable,'-')"
     ],
     "language": "python",
     "metadata": {},
     "outputs": []
    },
    {
     "cell_type": "code",
     "collapsed": false,
     "input": [],
     "language": "python",
     "metadata": {},
     "outputs": []
    },
    {
     "cell_type": "code",
     "collapsed": false,
     "input": [],
     "language": "python",
     "metadata": {},
     "outputs": []
    }
   ],
   "metadata": {}
  }
 ]
}