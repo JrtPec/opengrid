{
 "metadata": {
  "name": "",
  "signature": "sha256:1486eb28f1dedc0dcfd43a7dba005dbfb168e7652de09c821576423bc638272f"
 },
 "nbformat": 3,
 "nbformat_minor": 0,
 "worksheets": [
  {
   "cells": [
    {
     "cell_type": "heading",
     "level": 1,
     "metadata": {},
     "source": [
      "Setup"
     ]
    },
    {
     "cell_type": "code",
     "collapsed": false,
     "input": [
      "import pandas as pd\n",
      "import time,os,sys,inspect\n",
      "import matplotlib.pyplot as plt\n",
      "%matplotlib inline\n",
      "plt.rcParams['figure.figsize'] = 16,8"
     ],
     "language": "python",
     "metadata": {},
     "outputs": []
    },
    {
     "cell_type": "code",
     "collapsed": false,
     "input": [
      "script_dir = os.path.dirname(os.path.abspath(inspect.getfile(inspect.currentframe())))\n",
      "sys.path.append(os.path.join(script_dir, os.pardir, os.pardir))"
     ],
     "language": "python",
     "metadata": {},
     "outputs": []
    },
    {
     "cell_type": "code",
     "collapsed": false,
     "input": [
      "start = pd.Timestamp(time.time() - 3600*24, unit='s') #24 hours ago\n",
      "start = start.replace(hour=20,minute=0, second=0) #start around 20h\n",
      "end = start.replace(minute=10)"
     ],
     "language": "python",
     "metadata": {},
     "outputs": []
    },
    {
     "cell_type": "code",
     "collapsed": false,
     "input": [
      "from nialm.library.get_data import get_flukso_data"
     ],
     "language": "python",
     "metadata": {},
     "outputs": []
    },
    {
     "cell_type": "code",
     "collapsed": false,
     "input": [
      "df = get_flukso_data(start,end)"
     ],
     "language": "python",
     "metadata": {},
     "outputs": []
    },
    {
     "cell_type": "code",
     "collapsed": false,
     "input": [
      "from nialm.library.problems import *"
     ],
     "language": "python",
     "metadata": {},
     "outputs": []
    },
    {
     "cell_type": "heading",
     "level": 1,
     "metadata": {},
     "source": [
      "Create Problem and plot summary"
     ]
    },
    {
     "cell_type": "code",
     "collapsed": false,
     "input": [
      "#pick a sensor\n",
      "sensor = '214ef2d3533899dbf633caeb32e80483'\n",
      "problem = Disaggregation_problem(orig_data=df[sensor])\n",
      "\n",
      "plt.figure()\n",
      "plt.plot_date(problem.df_orig.index,problem.df_orig,'-',label=\"Instantaneous Power\")\n",
      "plt.plot_date(problem.df_diff_full.index,problem.df_diff_full,'-',label=\"1st Derivative\")\n",
      "plt.plot_date(problem.df_diff.index,problem.df_diff,'o',label=\"Flanks\")\n",
      "plt.figtext(0.5,0.95,[\"Detection Ceiling = \",problem.score_ceiling,\" Wh\"], fontsize=14, ha='center')"
     ],
     "language": "python",
     "metadata": {},
     "outputs": []
    },
    {
     "cell_type": "heading",
     "level": 1,
     "metadata": {},
     "source": [
      "IMPORT INDIVIDUAL and begin test"
     ]
    },
    {
     "cell_type": "code",
     "collapsed": false,
     "input": [
      "from nialm.library.genetic.individual import Individual"
     ],
     "language": "python",
     "metadata": {},
     "outputs": []
    },
    {
     "cell_type": "code",
     "collapsed": false,
     "input": [
      "test_individual = Individual(problem=problem)"
     ],
     "language": "python",
     "metadata": {},
     "outputs": []
    },
    {
     "cell_type": "code",
     "collapsed": false,
     "input": [
      "print test_individual"
     ],
     "language": "python",
     "metadata": {},
     "outputs": []
    },
    {
     "cell_type": "heading",
     "level": 1,
     "metadata": {},
     "source": [
      "Plot all found blocks"
     ]
    },
    {
     "cell_type": "code",
     "collapsed": false,
     "input": [
      "plt.figure()\n",
      "plt.plot_date(problem.df_diff_full.index,problem.df_diff_full,'-')\n",
      "for block in test_individual.parts:\n",
      "    plt.plot_date(block.df.index,block.df,'o')"
     ],
     "language": "python",
     "metadata": {},
     "outputs": []
    },
    {
     "cell_type": "code",
     "collapsed": false,
     "input": [
      "plt.figure()\n",
      "plt.plot_date(problem.df_orig.index,problem.df_orig,'-')\n",
      "for block in test_individual.parts:\n",
      "    plt.plot_date(block.get_drawable().index,block.get_drawable(),'-')"
     ],
     "language": "python",
     "metadata": {},
     "outputs": []
    },
    {
     "cell_type": "code",
     "collapsed": false,
     "input": [],
     "language": "python",
     "metadata": {},
     "outputs": []
    },
    {
     "cell_type": "code",
     "collapsed": false,
     "input": [],
     "language": "python",
     "metadata": {},
     "outputs": []
    }
   ],
   "metadata": {}
  }
 ]
}