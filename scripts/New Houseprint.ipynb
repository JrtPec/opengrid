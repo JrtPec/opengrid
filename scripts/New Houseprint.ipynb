{
 "cells": [
  {
   "cell_type": "code",
   "execution_count": 1,
   "metadata": {
    "collapsed": true
   },
   "outputs": [],
   "source": [
    "import os, inspect, sys\n",
    "import datetime, json, gspread\n",
    "import cPickle as pickle\n",
    "from oauth2client.client import SignedJwtAssertionCredentials\n",
    "import pandas as pd"
   ]
  },
  {
   "cell_type": "code",
   "execution_count": 2,
   "metadata": {
    "collapsed": true
   },
   "outputs": [],
   "source": [
    "import matplotlib.pyplot as plt\n",
    "%matplotlib inline\n",
    "plt.rcParams['figure.figsize'] = 16,8"
   ]
  },
  {
   "cell_type": "code",
   "execution_count": 3,
   "metadata": {
    "collapsed": false
   },
   "outputs": [],
   "source": [
    "script_dir = os.path.dirname(os.path.abspath(inspect.getfile(inspect.currentframe())))\n",
    "sys.path.append(os.path.join(script_dir, os.pardir, os.pardir))"
   ]
  },
  {
   "cell_type": "code",
   "execution_count": 4,
   "metadata": {
    "collapsed": false
   },
   "outputs": [],
   "source": [
    "from opengrid.library import config\n",
    "c = config.Config()"
   ]
  },
  {
   "cell_type": "code",
   "execution_count": 5,
   "metadata": {
    "collapsed": true
   },
   "outputs": [],
   "source": [
    "sys.path.append(c.get('tmpo', 'folder'))\n",
    "import tmpo\n",
    "\n",
    "try:\n",
    "    if os.path.exists(c.get('tmpo', 'data')):\n",
    "        path_to_tmpo_data = c.get('tmpo', 'data')\n",
    "except:\n",
    "    path_to_tmpo_data = None"
   ]
  },
  {
   "cell_type": "markdown",
   "metadata": {},
   "source": [
    "# Class definitions"
   ]
  },
  {
   "cell_type": "markdown",
   "metadata": {},
   "source": [
    "## Houseprint Singleton"
   ]
  },
  {
   "cell_type": "markdown",
   "metadata": {},
   "source": [
    "The Houseprint is a Singleton object which contains all metadata for sites, devices and sensors. It can be pickled, saved and passed around"
   ]
  },
  {
   "cell_type": "code",
   "execution_count": 6,
   "metadata": {
    "collapsed": false
   },
   "outputs": [],
   "source": [
    "class Houseprint(object):\n",
    "    def __init__(self, spreadsheet = \"Opengrid houseprint (Responses)\"):\n",
    "        \n",
    "        self.sites = []\n",
    "        self._parse_sheet(spreadsheet)\n",
    "        self.timestamp = datetime.datetime.utcnow() #Add a timestamp upon creation\n",
    "        \n",
    "    def __repr__(self):\n",
    "        return \"\"\"\n",
    "    Houseprint\n",
    "    Created on {} (UTC)\n",
    "    {} sites\n",
    "    {} devices\n",
    "    {} sensors\n",
    "    \"\"\".format(self.timestamp,\n",
    "               len(self.sites),\n",
    "               sum([len(site.devices) for site in self.sites]),\n",
    "               sum([len(site.sensors) for site in self.sites])\n",
    "              )\n",
    "    \n",
    "    def _parse_sheet(self, spreadsheet):\n",
    "\n",
    "        print 'Opening connection to Houseprint sheet'\n",
    "        #fetch credentials\n",
    "        gjson = c.get('houseprint','json')\n",
    "        json_key = json.load(open(gjson))\n",
    "        scope = ['https://spreadsheets.google.com/feeds']\n",
    "        credentials = SignedJwtAssertionCredentials(json_key['client_email'], json_key['private_key'], scope)\n",
    "        \n",
    "        #authorize and login\n",
    "        gc = gspread.authorize(credentials)\n",
    "        gc.login()\n",
    "        \n",
    "        #open sheets\n",
    "        print \"Opening spreadsheets\"\n",
    "        sheet = gc.open(spreadsheet)\n",
    "        sites_sheet = sheet.worksheet('Accounts')\n",
    "        devices_sheet = sheet.worksheet('Devices')\n",
    "        sensors_sheet = sheet.worksheet('Sensors')\n",
    "        \n",
    "        print 'Parsing spreadsheets'\n",
    "        self._parse_sites(sites_sheet)\n",
    "        self._parse_devices(devices_sheet)\n",
    "        self._parse_sensors(sensors_sheet)\n",
    "        \n",
    "        print 'Houseprint parsing complete'\n",
    "        \n",
    "    def _parse_sites(self,sheet):\n",
    "        \n",
    "        records = sheet.get_all_records()\n",
    "        \n",
    "        for r in records:\n",
    "            if r['Key'] == '': continue\n",
    "            new_site = Site(hp = self,\n",
    "                            key = r['Key'],\n",
    "                           size = r['House size'],\n",
    "                           inhabitants = r['Number of inhabitants'],\n",
    "                           postcode = r['postcode'],\n",
    "                           construction_year = r['construction year'],\n",
    "                           k_level = r['K-level'],\n",
    "                           e_level = r['E-level'],\n",
    "                           epc_cert = r['EPC certificate'])\n",
    "            self.sites.append(new_site)\n",
    "            \n",
    "        print '{} Sites created'.format(len(self.sites))\n",
    "        \n",
    "    def _parse_devices(self,sheet):\n",
    "        \n",
    "        records = sheet.get_all_records()\n",
    "                        \n",
    "        for r in records:\n",
    "            if r['Key'] == '': continue  \n",
    "            \n",
    "            #find parent site and check if it exists\n",
    "            site = self.find_site(r['Parent site'])\n",
    "            if site is None:\n",
    "                raise ValueError('Device {} was given an invalid site key {}'.format(r['Key'], r['Parent site']))\n",
    "                \n",
    "            #create a new device according to its manufacturer    \n",
    "            if r['manufacturer'] == 'Flukso':\n",
    "                new_device = Fluksometer(site = site, key = r['Key'])\n",
    "            else:\n",
    "                raise NotImplementedError('Devices from {} are not supported'.format(r['manufacturer']))\n",
    "                \n",
    "            #add new device to parent site\n",
    "            site.devices.append(new_device)\n",
    "            \n",
    "        print '{} Devices created'.format(sum([len(site.devices) for site in self.sites]))\n",
    "        \n",
    "    def _parse_sensors(self,sheet):\n",
    "        \n",
    "        records = sheet.get_all_records()\n",
    "        \n",
    "        for r in records:\n",
    "            if r['Sensor_id'] == '': continue\n",
    "            \n",
    "            #find parent. If a parent device is specified, us that, otherwise use a parent site directly\n",
    "            if r['parent device'] != '':\n",
    "                device = self.find_device(r['parent device'])\n",
    "                if device is None:\n",
    "                    raise ValueError('Sensor {} was given an invalid device key {}. Leave the device field empty if you want to add a sensor without a device'.format(r['Sensor_id'], r['parent device']))\n",
    "            else:\n",
    "                site = self.find_site(r['parent site'])\n",
    "                if site is None:\n",
    "                    raise ValueError('Sensor {} was given an invalid site key {}'.format(r['Sensor_id'],r['parent site']))\n",
    "\n",
    "            #create new sensor according to its manufacturer\n",
    "            if r['manufacturer'] == 'Flukso':\n",
    "                new_sensor = Fluksosensor(device = device,\n",
    "                                         key = r['Sensor_id'],\n",
    "                                         token = r['token'],\n",
    "                                         type = r['sensor type'],\n",
    "                                         description = r['name by user'],\n",
    "                                         system = r['system'],\n",
    "                                         quantity = r['quantity'],\n",
    "                                         unit = r['unit'],\n",
    "                                         direction = r['direction'],\n",
    "                                         tariff = r['tariff'])\n",
    "            else:\n",
    "                raise NotImplementedError('Sensors from {} are not supported'.format(r['manufacturer']))\n",
    "\n",
    "            #add sensor to device AND site\n",
    "            if new_sensor.device is not None:\n",
    "                new_sensor.device.sensors.append(new_sensor)\n",
    "            new_sensor.site.sensors.append(new_sensor)\n",
    "        \n",
    "        print '{} sensors created'.format(sum([len(site.sensors) for site in self.sites]))\n",
    "        \n",
    "    def get_sensors(self, sensortype = None):\n",
    "        \"\"\"\n",
    "            Return a list with all sensors\n",
    "            \n",
    "            Parameters\n",
    "            ----------\n",
    "            sensortype: gas, water, electricity: optional\n",
    "        \"\"\"\n",
    "        res = []\n",
    "        for site in self.sites:\n",
    "            for sensor in site.get_sensors(sensortype = sensortype):\n",
    "                res.append(sensor)\n",
    "        return res\n",
    "        \n",
    "    def get_devices(self):\n",
    "        \"\"\"\n",
    "            Return a list with all devices\n",
    "        \"\"\"\n",
    "        res = []\n",
    "        for site in self.sites:\n",
    "            for device in site.devices:\n",
    "                res.append(device)\n",
    "        return res\n",
    "    \n",
    "    def find_site(self, key):\n",
    "        '''\n",
    "            Parameters\n",
    "            ----------\n",
    "            key: string\n",
    "            \n",
    "            Returns\n",
    "            -------\n",
    "            Site\n",
    "        '''\n",
    "        for site in self.sites:\n",
    "            if site.key == key:\n",
    "                return site\n",
    "        return None\n",
    "    \n",
    "    def find_device(self, key):\n",
    "        '''\n",
    "            Parameters\n",
    "            ----------\n",
    "            key: string\n",
    "            \n",
    "            Returns\n",
    "            -------\n",
    "            Device\n",
    "        '''\n",
    "        for device in self.get_devices():\n",
    "            if device.key == key:\n",
    "                return device\n",
    "        return None\n",
    "    \n",
    "    def find_sensor(self, key):\n",
    "        '''\n",
    "            Parameters\n",
    "            ----------\n",
    "            key: string\n",
    "            \n",
    "            Returns\n",
    "            -------\n",
    "            Sensor\n",
    "        '''\n",
    "        for sensor in self.get_sensors():\n",
    "            if sensor.key == key:\n",
    "                return sensor\n",
    "        return None\n",
    "    \n",
    "    def save(self, filename):\n",
    "        \"\"\"\n",
    "        Pickle the houseprint object\n",
    "        \n",
    "        Parameters\n",
    "        ----------\n",
    "        * filename : str\n",
    "            Filename, if relative path or just filename, it is appended to the\n",
    "            current working directory\n",
    "        \n",
    "        \"\"\"\n",
    "        if hasattr(self,'_tmpos'):\n",
    "            #temporarily delete tmpo session\n",
    "            tmpos_tmp = self._tmpos\n",
    "            self._tmpos = None\n",
    "\n",
    "        abspath = os.path.join(os.getcwd(), filename)\n",
    "        f=file(abspath, 'w')\n",
    "        pickle.dump(self, f)\n",
    "        f.close()\n",
    "        \n",
    "        print(\"Saved houseprint to {}\".format(abspath))\n",
    "        \n",
    "        if hasattr(self,'_tmpos'):\n",
    "            #restore tmpo session\n",
    "            self._tmpos = tmpos_tmp\n",
    "        \n",
    "    def init_tmpo(self, tmpos=None):\n",
    "        \"\"\"\n",
    "            Fluksosensors need a tmpo session to obtain data.\n",
    "            It is overkill to have each fluksosensor make its own session, syncing would take too long and be overly redundant.\n",
    "            Passing a tmpo session to the get_data function is also bad form because we might add new types of sensors that don't use tmpo in the future.\n",
    "            This is why the session is initialised here.\n",
    "            \n",
    "            A tmpo session as parameter is optional.\n",
    "            If no session is passed, a new one will be created using the location in the config file.\n",
    "        \"\"\"\n",
    "        \n",
    "        if tmpos is not None:\n",
    "            self._tmpos = tmpos\n",
    "        else:\n",
    "            self._tmpos = tmpo.Session(path_to_tmpo_data)\n",
    "            \n",
    "    def get_tmpos(self):\n",
    "        \"\"\"\n",
    "            Returns\n",
    "            -------\n",
    "            TMPO session\n",
    "        \"\"\"\n",
    "        if hasattr(self,'_tmpos'):\n",
    "            return self._tmpos\n",
    "        else:\n",
    "            raise RuntimeError('No TMPO session was set, use the init_tmpo method to add or create a TMPO Session')\n",
    "            \n",
    "    def sync_tmpos(self):\n",
    "        \"\"\"\n",
    "            Add all Fluksosensors to the TMPO session and sync\n",
    "        \"\"\"\n",
    "        tmpos = self.get_tmpos()\n",
    "        fluksosensors = [sensor for sensor in self.get_sensors() if isinstance(sensor,Fluksosensor)]\n",
    "        \n",
    "        for sensor in fluksosensors:\n",
    "            tmpos.add(sensor.key, sensor.token)\n",
    "            \n",
    "        tmpos.sync()\n",
    "        \n",
    "    def get_data(self, sensortype = None, head = None, tail = None):\n",
    "        \"\"\"\n",
    "            Return a Pandas Dataframe with joined data for all sensors in the houseprint\n",
    "            \n",
    "            Parameters\n",
    "            ----------\n",
    "            sensortype: gas, water, electricity: optional\n",
    "            head, tail: timestamps\n",
    "        \"\"\"\n",
    "        sensors = self.get_sensors(sensortype)\n",
    "        series = [sensor.get_data(head=head,tail=tail) for sensor in sensors]\n",
    "        return pd.concat(series, axis=1)"
   ]
  },
  {
   "cell_type": "code",
   "execution_count": 7,
   "metadata": {
    "collapsed": true
   },
   "outputs": [],
   "source": [
    "def load_houseprint_from_file(filename):\n",
    "    \"\"\"Return a static (=anonymous) houseprint object\"\"\"\n",
    "    \n",
    "    f = open(filename, 'r')    \n",
    "    hp = pickle.load(f)\n",
    "    f.close()\n",
    "    return hp"
   ]
  },
  {
   "cell_type": "markdown",
   "metadata": {},
   "source": [
    "## Site"
   ]
  },
  {
   "cell_type": "markdown",
   "metadata": {},
   "source": [
    "A Site is a physical entity (a house, appartment, school, or other building). It may contain multiple devices and sensors.\n",
    "\n",
    "The Site contains most of the metadata, eg. the number of inhabitants, the size of the building, the location etc."
   ]
  },
  {
   "cell_type": "code",
   "execution_count": 8,
   "metadata": {
    "collapsed": false
   },
   "outputs": [],
   "source": [
    "class Site(object):\n",
    "    def __init__(self, hp, key, size, inhabitants, postcode, construction_year, k_level, e_level, epc_cert):\n",
    "        self.hp = hp #backref to parent\n",
    "        self.key = key\n",
    "        self.size = size\n",
    "        self.inhabitants = inhabitants\n",
    "        self.postcode = postcode\n",
    "        self.construction_year = construction_year\n",
    "        self.k_level = k_level\n",
    "        self.e_level = e_level\n",
    "        self.epc_cert = epc_cert\n",
    "        \n",
    "        self.devices = []\n",
    "        self.sensors = []\n",
    "        \n",
    "    def __repr__(self):\n",
    "        return \"\"\"\n",
    "    Site\n",
    "    Key: {}\n",
    "    {} devices\n",
    "    {} sensors\n",
    "    \"\"\".format(self.key,\n",
    "               len(self.devices),\n",
    "               len(self.sensors)\n",
    "              )\n",
    "        \n",
    "    def get_sensors(self, sensortype = None):\n",
    "        \"\"\"\n",
    "            Return a list with all sensors\n",
    "            \n",
    "            Parameters\n",
    "            ----------\n",
    "            sensortype: gas, water, electricity: optional\n",
    "        \"\"\"\n",
    "        return [sensor for sensor in self.sensors if sensor.type == sensortype or sensortype is None]\n",
    "    \n",
    "    def get_data(self, sensortype = None, head = None, tail = None):\n",
    "        \"\"\"\n",
    "            Return a Pandas Dataframe with joined data for all sensors in this Site\n",
    "            \n",
    "            Parameters\n",
    "            ----------\n",
    "            sensortype: gas, water, electricity: optional\n",
    "            head, tail: timestamps\n",
    "        \"\"\"\n",
    "        sensors = self.get_sensors(sensortype)\n",
    "        series = [sensor.get_data(head=head,tail=tail) for sensor in sensors]\n",
    "        return pd.concat(series, axis=1)"
   ]
  },
  {
   "cell_type": "markdown",
   "metadata": {},
   "source": [
    "## Device"
   ]
  },
  {
   "cell_type": "markdown",
   "metadata": {},
   "source": [
    "A Device is an entity that can contain multiple sensors.\n",
    "The generic Device class can be inherited by a specific device class, eg. Fluksometer"
   ]
  },
  {
   "cell_type": "code",
   "execution_count": 9,
   "metadata": {
    "collapsed": false
   },
   "outputs": [],
   "source": [
    "class Device(object):\n",
    "    def __init__(self, key, site):\n",
    "        self.key = key\n",
    "        self.site = site\n",
    "        self.sensors = []\n",
    "        \n",
    "    def __repr__(self):\n",
    "        return \"\"\"\n",
    "    {}\n",
    "    Key: {}\n",
    "    {} sensors\n",
    "    \"\"\".format(self.__class__.__name__,\n",
    "               self.key,\n",
    "               len(self.sensors)\n",
    "              )\n",
    "        \n",
    "    def get_sensors(self, sensortype = None):\n",
    "        \"\"\"\n",
    "            Return a list with all sensors\n",
    "            \n",
    "            Parameters\n",
    "            ----------\n",
    "            sensortype: gas, water, electricity: optional\n",
    "        \"\"\"\n",
    "        return [sensor for sensor in self.sensors if sensor.type == sensortype or sensortype is None]\n",
    "    \n",
    "    def get_data(self, sensortype = None, head = None, tail = None):\n",
    "        \"\"\"\n",
    "            Return a Pandas Dataframe with the joined data for all sensors in this device\n",
    "            \n",
    "            Parameters\n",
    "            ----------\n",
    "            sensortype: gas, water, electricity: optional\n",
    "            head, tail: timestamps indicating start and end\n",
    "        \"\"\"\n",
    "        \n",
    "        sensors = self.get_sensors(sensortype)\n",
    "        series = [sensor.get_data(head=head,tail=tail) for sensor in sensors]\n",
    "        return pd.concat(series, axis=1)"
   ]
  },
  {
   "cell_type": "code",
   "execution_count": 10,
   "metadata": {
    "collapsed": false
   },
   "outputs": [],
   "source": [
    "class Fluksometer(Device):\n",
    "    def __init__(self, site, key, mastertoken = None):\n",
    "        \n",
    "        #invoke init method of generic Device\n",
    "        super(Fluksometer, self).__init__(key, site)\n",
    "        \n",
    "        self.mastertoken = mastertoken"
   ]
  },
  {
   "cell_type": "markdown",
   "metadata": {},
   "source": [
    "## Sensor"
   ]
  },
  {
   "cell_type": "markdown",
   "metadata": {},
   "source": [
    "A sensor generates a single data stream. It can have a parent device, but the possibility is also left open for a sensor to stand alone in a site.\n",
    "It is an abstract class definition which has to be overridden (by eg. a Fluksosensor).\n",
    "\n",
    "This class contains all metadata concerning the function and type of the sensor (eg. electricity - solar, ...)"
   ]
  },
  {
   "cell_type": "code",
   "execution_count": 11,
   "metadata": {
    "collapsed": false
   },
   "outputs": [],
   "source": [
    "class Sensor(object):\n",
    "    def __init__(self, key, device, site, type, description, system, quantity, unit, direction, tariff):\n",
    "        self.key = key\n",
    "        self.device = device\n",
    "        self.site = site\n",
    "        self.type = type\n",
    "        self.description = description\n",
    "        self.system = system\n",
    "        self.quantity = quantity\n",
    "        self.unit = unit\n",
    "        self.direction = direction\n",
    "        self.tariff = tariff\n",
    "        \n",
    "    def __repr__(self):\n",
    "        return \"\"\"\n",
    "    {}\n",
    "    Key: {}\n",
    "    Type: {}\n",
    "    \"\"\".format(self.__class__.__name__,\n",
    "               self.key,\n",
    "               self.type\n",
    "              )\n",
    "        \n",
    "    def get_data(self, head = None, tail = None):\n",
    "        \"\"\"\n",
    "            Return a Pandas Series with measurement data\n",
    "            \n",
    "            Parameters\n",
    "            ----------\n",
    "            head, tail: timestamps for the begin and end of the interval\n",
    "            \n",
    "            Notes\n",
    "            -----\n",
    "            This is an abstract method, because each type of sensor has a different way of fetching the data.\n",
    "        \"\"\"\n",
    "        \n",
    "        raise NotImplementedError(\"Subclass must implement abstract method\")"
   ]
  },
  {
   "cell_type": "code",
   "execution_count": 12,
   "metadata": {
    "collapsed": false
   },
   "outputs": [],
   "source": [
    "class Fluksosensor(Sensor):\n",
    "    def __init__(self, key, token, device, type, description, system, quantity, unit, direction, tariff):\n",
    "        \n",
    "        #invoke init method of abstract Sensor\n",
    "        super(Fluksosensor, self).__init__(key = key,\n",
    "                                           device = device,\n",
    "                                           site = device.site,\n",
    "                                           type = type,\n",
    "                                           description = description,\n",
    "                                           system = system,\n",
    "                                           quantity = quantity,\n",
    "                                          unit = unit,\n",
    "                                          direction = direction,\n",
    "                                          tariff = tariff)\n",
    "        \n",
    "        if token != '':\n",
    "            self.token = token\n",
    "        else:\n",
    "            self.token = parent.mastertoken\n",
    "        \n",
    "    # @Override :-D    \n",
    "    def get_data(self, head = None, tail = None):\n",
    "        '''\n",
    "            Connect to tmpo and fetch a data series\n",
    "            \n",
    "            Parameters\n",
    "            ----------\n",
    "            head, tail: optional timestamps\n",
    "        '''\n",
    "\n",
    "        tmpos = self.site.hp.get_tmpos()\n",
    "        \n",
    "        if head is None:\n",
    "            head = 0\n",
    "        if tail is None:\n",
    "            tail = tmpo.EPOCHS_MAX\n",
    "        \n",
    "        data = tmpos.series(sid = self.key,\n",
    "                           head = head,\n",
    "                           tail = tail)\n",
    "        \n",
    "        return data"
   ]
  },
  {
   "cell_type": "markdown",
   "metadata": {
    "collapsed": false
   },
   "source": [
    "#Test"
   ]
  },
  {
   "cell_type": "markdown",
   "metadata": {},
   "source": [
    "##Houseprint"
   ]
  },
  {
   "cell_type": "code",
   "execution_count": 13,
   "metadata": {
    "collapsed": false
   },
   "outputs": [
    {
     "name": "stdout",
     "output_type": "stream",
     "text": [
      "Opening connection to Houseprint sheet\n",
      "Opening spreadsheets\n",
      "Parsing spreadsheets\n",
      "22 Sites created\n",
      "22 Devices created\n",
      "72 sensors created\n",
      "Houseprint parsing complete\n"
     ]
    }
   ],
   "source": [
    "hp = Houseprint()"
   ]
  },
  {
   "cell_type": "code",
   "execution_count": 14,
   "metadata": {
    "collapsed": false,
    "scrolled": true
   },
   "outputs": [
    {
     "data": {
      "text/plain": [
       "\n",
       "    Houseprint\n",
       "    Created on 2015-06-20 19:04:41.950243 (UTC)\n",
       "    22 sites\n",
       "    22 devices\n",
       "    72 sensors\n",
       "    "
      ]
     },
     "execution_count": 14,
     "metadata": {},
     "output_type": "execute_result"
    }
   ],
   "source": [
    "hp"
   ]
  },
  {
   "cell_type": "code",
   "execution_count": 15,
   "metadata": {
    "collapsed": false
   },
   "outputs": [
    {
     "data": {
      "text/plain": [
       "[\n",
       "     Site\n",
       "     Key: 1\n",
       "     1 devices\n",
       "     6 sensors\n",
       "     , \n",
       "     Site\n",
       "     Key: 2\n",
       "     1 devices\n",
       "     6 sensors\n",
       "     , \n",
       "     Site\n",
       "     Key: 3\n",
       "     1 devices\n",
       "     1 sensors\n",
       "     , \n",
       "     Site\n",
       "     Key: 4\n",
       "     1 devices\n",
       "     4 sensors\n",
       "     , \n",
       "     Site\n",
       "     Key: 5\n",
       "     1 devices\n",
       "     1 sensors\n",
       "     , \n",
       "     Site\n",
       "     Key: 6\n",
       "     1 devices\n",
       "     1 sensors\n",
       "     , \n",
       "     Site\n",
       "     Key: 7\n",
       "     1 devices\n",
       "     5 sensors\n",
       "     , \n",
       "     Site\n",
       "     Key: 8\n",
       "     1 devices\n",
       "     4 sensors\n",
       "     , \n",
       "     Site\n",
       "     Key: 9\n",
       "     1 devices\n",
       "     4 sensors\n",
       "     , \n",
       "     Site\n",
       "     Key: 10\n",
       "     1 devices\n",
       "     3 sensors\n",
       "     , \n",
       "     Site\n",
       "     Key: 11\n",
       "     1 devices\n",
       "     2 sensors\n",
       "     , \n",
       "     Site\n",
       "     Key: 12\n",
       "     1 devices\n",
       "     1 sensors\n",
       "     , \n",
       "     Site\n",
       "     Key: 13\n",
       "     1 devices\n",
       "     2 sensors\n",
       "     , \n",
       "     Site\n",
       "     Key: 14\n",
       "     1 devices\n",
       "     1 sensors\n",
       "     , \n",
       "     Site\n",
       "     Key: 15\n",
       "     1 devices\n",
       "     6 sensors\n",
       "     , \n",
       "     Site\n",
       "     Key: 16\n",
       "     1 devices\n",
       "     5 sensors\n",
       "     , \n",
       "     Site\n",
       "     Key: 17\n",
       "     1 devices\n",
       "     1 sensors\n",
       "     , \n",
       "     Site\n",
       "     Key: 18\n",
       "     1 devices\n",
       "     5 sensors\n",
       "     , \n",
       "     Site\n",
       "     Key: 19\n",
       "     1 devices\n",
       "     1 sensors\n",
       "     , \n",
       "     Site\n",
       "     Key: 20\n",
       "     1 devices\n",
       "     4 sensors\n",
       "     , \n",
       "     Site\n",
       "     Key: 21\n",
       "     1 devices\n",
       "     5 sensors\n",
       "     , \n",
       "     Site\n",
       "     Key: 22\n",
       "     1 devices\n",
       "     4 sensors\n",
       "     ]"
      ]
     },
     "execution_count": 15,
     "metadata": {},
     "output_type": "execute_result"
    }
   ],
   "source": [
    "hp.sites"
   ]
  },
  {
   "cell_type": "code",
   "execution_count": 16,
   "metadata": {
    "collapsed": false
   },
   "outputs": [
    {
     "data": {
      "text/plain": [
       "[\n",
       "     Fluksometer\n",
       "     Key: FL03001552\n",
       "     6 sensors\n",
       "     , \n",
       "     Fluksometer\n",
       "     Key: FL03001561\n",
       "     6 sensors\n",
       "     , \n",
       "     Fluksometer\n",
       "     Key: FL02000449\n",
       "     1 sensors\n",
       "     , \n",
       "     Fluksometer\n",
       "     Key: FL03001566\n",
       "     4 sensors\n",
       "     , \n",
       "     Fluksometer\n",
       "     Key: FL03001578\n",
       "     1 sensors\n",
       "     , \n",
       "     Fluksometer\n",
       "     Key: FL03001577\n",
       "     1 sensors\n",
       "     , \n",
       "     Fluksometer\n",
       "     Key: FL03001573\n",
       "     5 sensors\n",
       "     , \n",
       "     Fluksometer\n",
       "     Key: FL03001553\n",
       "     4 sensors\n",
       "     , \n",
       "     Fluksometer\n",
       "     Key: FL03001556\n",
       "     4 sensors\n",
       "     , \n",
       "     Fluksometer\n",
       "     Key: FL03001550\n",
       "     3 sensors\n",
       "     , \n",
       "     Fluksometer\n",
       "     Key: FL02000628\n",
       "     2 sensors\n",
       "     , \n",
       "     Fluksometer\n",
       "     Key: FL03001557\n",
       "     1 sensors\n",
       "     , \n",
       "     Fluksometer\n",
       "     Key: FL03001560\n",
       "     2 sensors\n",
       "     , \n",
       "     Fluksometer\n",
       "     Key: FL03001549\n",
       "     1 sensors\n",
       "     , \n",
       "     Fluksometer\n",
       "     Key: FL03001570\n",
       "     6 sensors\n",
       "     , \n",
       "     Fluksometer\n",
       "     Key: FL03001525\n",
       "     5 sensors\n",
       "     , \n",
       "     Fluksometer\n",
       "     Key: FL03001554\n",
       "     1 sensors\n",
       "     , \n",
       "     Fluksometer\n",
       "     Key: FL03001441\n",
       "     5 sensors\n",
       "     , \n",
       "     Fluksometer\n",
       "     Key: FL03001572\n",
       "     1 sensors\n",
       "     , \n",
       "     Fluksometer\n",
       "     Key: FL02000678\n",
       "     4 sensors\n",
       "     , \n",
       "     Fluksometer\n",
       "     Key: FL03001579\n",
       "     5 sensors\n",
       "     , \n",
       "     Fluksometer\n",
       "     Key: FL03001251\n",
       "     4 sensors\n",
       "     ]"
      ]
     },
     "execution_count": 16,
     "metadata": {},
     "output_type": "execute_result"
    }
   ],
   "source": [
    "hp.get_devices()"
   ]
  },
  {
   "cell_type": "code",
   "execution_count": 17,
   "metadata": {
    "collapsed": false
   },
   "outputs": [
    {
     "data": {
      "text/plain": [
       "[\n",
       "     Fluksosensor\n",
       "     Key: 661684d35cd07dfc657a60b844860785\n",
       "     Type: water\n",
       "     , \n",
       "     Fluksosensor\n",
       "     Key: b28509eb97137e723995838c393d49df\n",
       "     Type: water\n",
       "     , \n",
       "     Fluksosensor\n",
       "     Key: 36dac700f81c6be9ca233e6534182ed4\n",
       "     Type: water\n",
       "     , \n",
       "     Fluksosensor\n",
       "     Key: 2923b75daf93e539e37ce5177c0008c5\n",
       "     Type: water\n",
       "     , \n",
       "     Fluksosensor\n",
       "     Key: a8054ca7865584e69a7c946aeea1e13c\n",
       "     Type: water\n",
       "     , \n",
       "     Fluksosensor\n",
       "     Key: 4e63e6b6b5bdb137658d84a861593e5c\n",
       "     Type: water\n",
       "     , \n",
       "     Fluksosensor\n",
       "     Key: 1a5c55ec176d24483572aca420ac59b5\n",
       "     Type: water\n",
       "     , \n",
       "     Fluksosensor\n",
       "     Key: c57f45b21e2ec21ab427f172478e1ca4\n",
       "     Type: water\n",
       "     , \n",
       "     Fluksosensor\n",
       "     Key: a926bc966f178fc5d507a569a5bfc3d7\n",
       "     Type: water\n",
       "     , \n",
       "     Fluksosensor\n",
       "     Key: a519ce042e8748570d3a91cfca16a747\n",
       "     Type: water\n",
       "     ]"
      ]
     },
     "execution_count": 17,
     "metadata": {},
     "output_type": "execute_result"
    }
   ],
   "source": [
    "hp.get_sensors('water')"
   ]
  },
  {
   "cell_type": "markdown",
   "metadata": {},
   "source": [
    "A Houseprint object can be saved as a pickle. It loses its tmpo session however (connections cannot be pickled)"
   ]
  },
  {
   "cell_type": "code",
   "execution_count": 18,
   "metadata": {
    "collapsed": false
   },
   "outputs": [
    {
     "name": "stdout",
     "output_type": "stream",
     "text": [
      "Saved houseprint to /Users/Jan/opengrid/scripts/new_houseprint.pkl\n"
     ]
    }
   ],
   "source": [
    "hp.save('new_houseprint.pkl')"
   ]
  },
  {
   "cell_type": "code",
   "execution_count": 19,
   "metadata": {
    "collapsed": true
   },
   "outputs": [],
   "source": [
    "hp = load_houseprint_from_file('new_houseprint.pkl')"
   ]
  },
  {
   "cell_type": "markdown",
   "metadata": {},
   "source": [
    "###TMPO"
   ]
  },
  {
   "cell_type": "markdown",
   "metadata": {},
   "source": [
    "The houseprint, sites, devices and sensors all have a get_data method. In order to get these working for the fluksosensors, the houseprint needs a tmpo session"
   ]
  },
  {
   "cell_type": "code",
   "execution_count": 20,
   "metadata": {
    "collapsed": true
   },
   "outputs": [],
   "source": [
    "hp.init_tmpo()"
   ]
  },
  {
   "cell_type": "code",
   "execution_count": 21,
   "metadata": {
    "collapsed": false,
    "scrolled": true
   },
   "outputs": [
    {
     "name": "stderr",
     "output_type": "stream",
     "text": [
      "/Library/Python/2.7/site-packages/requests/packages/urllib3/connection.py:251: SecurityWarning: Certificate has no `subjectAltName`, falling back to check for a `commonName` for now. This feature is being removed by major browsers and deprecated by RFC 2818. (See https://github.com/shazow/urllib3/issues/497 for details.)\n",
      "  SecurityWarning\n",
      "/Library/Python/2.7/site-packages/requests/packages/urllib3/connection.py:251: SecurityWarning: Certificate has no `subjectAltName`, falling back to check for a `commonName` for now. This feature is being removed by major browsers and deprecated by RFC 2818. (See https://github.com/shazow/urllib3/issues/497 for details.)\n",
      "  SecurityWarning\n",
      "/Library/Python/2.7/site-packages/requests/packages/urllib3/connection.py:251: SecurityWarning: Certificate has no `subjectAltName`, falling back to check for a `commonName` for now. This feature is being removed by major browsers and deprecated by RFC 2818. (See https://github.com/shazow/urllib3/issues/497 for details.)\n",
      "  SecurityWarning\n",
      "/Library/Python/2.7/site-packages/requests/packages/urllib3/connection.py:251: SecurityWarning: Certificate has no `subjectAltName`, falling back to check for a `commonName` for now. This feature is being removed by major browsers and deprecated by RFC 2818. (See https://github.com/shazow/urllib3/issues/497 for details.)\n",
      "  SecurityWarning\n",
      "/Library/Python/2.7/site-packages/requests/packages/urllib3/connection.py:251: SecurityWarning: Certificate has no `subjectAltName`, falling back to check for a `commonName` for now. This feature is being removed by major browsers and deprecated by RFC 2818. (See https://github.com/shazow/urllib3/issues/497 for details.)\n",
      "  SecurityWarning\n",
      "/Library/Python/2.7/site-packages/requests/packages/urllib3/connection.py:251: SecurityWarning: Certificate has no `subjectAltName`, falling back to check for a `commonName` for now. This feature is being removed by major browsers and deprecated by RFC 2818. (See https://github.com/shazow/urllib3/issues/497 for details.)\n",
      "  SecurityWarning\n",
      "/Library/Python/2.7/site-packages/requests/packages/urllib3/connection.py:251: SecurityWarning: Certificate has no `subjectAltName`, falling back to check for a `commonName` for now. This feature is being removed by major browsers and deprecated by RFC 2818. (See https://github.com/shazow/urllib3/issues/497 for details.)\n",
      "  SecurityWarning\n",
      "/Library/Python/2.7/site-packages/requests/packages/urllib3/connection.py:251: SecurityWarning: Certificate has no `subjectAltName`, falling back to check for a `commonName` for now. This feature is being removed by major browsers and deprecated by RFC 2818. (See https://github.com/shazow/urllib3/issues/497 for details.)\n",
      "  SecurityWarning\n",
      "/Library/Python/2.7/site-packages/requests/packages/urllib3/connection.py:251: SecurityWarning: Certificate has no `subjectAltName`, falling back to check for a `commonName` for now. This feature is being removed by major browsers and deprecated by RFC 2818. (See https://github.com/shazow/urllib3/issues/497 for details.)\n",
      "  SecurityWarning\n",
      "/Library/Python/2.7/site-packages/requests/packages/urllib3/connection.py:251: SecurityWarning: Certificate has no `subjectAltName`, falling back to check for a `commonName` for now. This feature is being removed by major browsers and deprecated by RFC 2818. (See https://github.com/shazow/urllib3/issues/497 for details.)\n",
      "  SecurityWarning\n",
      "/Library/Python/2.7/site-packages/requests/packages/urllib3/connection.py:251: SecurityWarning: Certificate has no `subjectAltName`, falling back to check for a `commonName` for now. This feature is being removed by major browsers and deprecated by RFC 2818. (See https://github.com/shazow/urllib3/issues/497 for details.)\n",
      "  SecurityWarning\n",
      "WARNING:requests.packages.urllib3.connectionpool:Connection pool is full, discarding connection: api.flukso.net\n"
     ]
    }
   ],
   "source": [
    "hp.sync_tmpos()"
   ]
  },
  {
   "cell_type": "markdown",
   "metadata": {},
   "source": [
    "###Lookup sites, devices, sensors"
   ]
  },
  {
   "cell_type": "code",
   "execution_count": 22,
   "metadata": {
    "collapsed": false
   },
   "outputs": [
    {
     "data": {
      "text/plain": [
       "\n",
       "    Site\n",
       "    Key: 1\n",
       "    1 devices\n",
       "    6 sensors\n",
       "    "
      ]
     },
     "execution_count": 22,
     "metadata": {},
     "output_type": "execute_result"
    }
   ],
   "source": [
    "hp.find_site(1)"
   ]
  },
  {
   "cell_type": "code",
   "execution_count": 23,
   "metadata": {
    "collapsed": false
   },
   "outputs": [
    {
     "data": {
      "text/plain": [
       "\n",
       "    Fluksometer\n",
       "    Key: FL03001552\n",
       "    6 sensors\n",
       "    "
      ]
     },
     "execution_count": 23,
     "metadata": {},
     "output_type": "execute_result"
    }
   ],
   "source": [
    "hp.find_device('FL03001552')"
   ]
  },
  {
   "cell_type": "code",
   "execution_count": 24,
   "metadata": {
    "collapsed": false,
    "scrolled": true
   },
   "outputs": [
    {
     "data": {
      "text/plain": [
       "\n",
       "    Fluksosensor\n",
       "    Key: 53b1eb0479c83dee927fff10b0cb0fe6\n",
       "    Type: electricity\n",
       "    "
      ]
     },
     "execution_count": 24,
     "metadata": {},
     "output_type": "execute_result"
    }
   ],
   "source": [
    "hp.find_sensor('53b1eb0479c83dee927fff10b0cb0fe6')"
   ]
  },
  {
   "cell_type": "markdown",
   "metadata": {},
   "source": [
    "###Get Data"
   ]
  },
  {
   "cell_type": "code",
   "execution_count": 25,
   "metadata": {
    "collapsed": false
   },
   "outputs": [
    {
     "data": {
      "text/plain": [
       "<matplotlib.axes._subplots.AxesSubplot at 0x110e16d10>"
      ]
     },
     "execution_count": 25,
     "metadata": {},
     "output_type": "execute_result"
    },
    {
     "data": {
      "image/png": "[encoded data removed]",
      "text/plain": [
       "<matplotlib.figure.Figure at 0x10dc03950>"
      ]
     },
     "metadata": {},
     "output_type": "display_data"
    }
   ],
   "source": [
    "head = pd.Timestamp('20150617')\n",
    "tail = pd.Timestamp('20150618')\n",
    "hp.get_data(sensortype='water', head=head,tail=tail).plot()"
   ]
  },
  {
   "cell_type": "markdown",
   "metadata": {},
   "source": [
    "##Site"
   ]
  },
  {
   "cell_type": "code",
   "execution_count": 26,
   "metadata": {
    "collapsed": false
   },
   "outputs": [
    {
     "data": {
      "text/plain": [
       "\n",
       "    Site\n",
       "    Key: 1\n",
       "    1 devices\n",
       "    6 sensors\n",
       "    "
      ]
     },
     "execution_count": 26,
     "metadata": {},
     "output_type": "execute_result"
    }
   ],
   "source": [
    "site = hp.find_site(1)\n",
    "site"
   ]
  },
  {
   "cell_type": "code",
   "execution_count": 27,
   "metadata": {
    "collapsed": false
   },
   "outputs": [
    {
     "name": "stdout",
     "output_type": "stream",
     "text": [
      "160\n",
      "5\n",
      "\n",
      "1913\n",
      "\n",
      "\n",
      "263\n"
     ]
    }
   ],
   "source": [
    "print site.size\n",
    "print site.inhabitants\n",
    "print site.postcode\n",
    "print site.construction_year\n",
    "print site.k_level\n",
    "print site.e_level\n",
    "print site.epc_cert"
   ]
  },
  {
   "cell_type": "code",
   "execution_count": 28,
   "metadata": {
    "collapsed": false
   },
   "outputs": [
    {
     "data": {
      "text/plain": [
       "[\n",
       "     Fluksometer\n",
       "     Key: FL03001552\n",
       "     6 sensors\n",
       "     ]"
      ]
     },
     "execution_count": 28,
     "metadata": {},
     "output_type": "execute_result"
    }
   ],
   "source": [
    "site.devices"
   ]
  },
  {
   "cell_type": "code",
   "execution_count": 29,
   "metadata": {
    "collapsed": false
   },
   "outputs": [
    {
     "data": {
      "text/plain": [
       "[\n",
       "     Fluksosensor\n",
       "     Key: 53b1eb0479c83dee927fff10b0cb0fe6\n",
       "     Type: electricity\n",
       "     , \n",
       "     Fluksosensor\n",
       "     Key: 7fae5d2f0354bd3f3681881918a253c8\n",
       "     Type: electricity\n",
       "     , \n",
       "     Fluksosensor\n",
       "     Key: e8fa1a454e137aa36c1adfd9de94406b\n",
       "     Type: electricity\n",
       "     ]"
      ]
     },
     "execution_count": 29,
     "metadata": {},
     "output_type": "execute_result"
    }
   ],
   "source": [
    "site.get_sensors('electricity')"
   ]
  },
  {
   "cell_type": "code",
   "execution_count": 30,
   "metadata": {
    "collapsed": false,
    "scrolled": false
   },
   "outputs": [
    {
     "data": {
      "text/plain": [
       "<matplotlib.axes._subplots.AxesSubplot at 0x10dc03190>"
      ]
     },
     "execution_count": 30,
     "metadata": {},
     "output_type": "execute_result"
    },
    {
     "data": {
      "image/png": "[encoded data removed]",
      "text/plain": [
       "<matplotlib.figure.Figure at 0x10db826d0>"
      ]
     },
     "metadata": {},
     "output_type": "display_data"
    }
   ],
   "source": [
    "head = pd.Timestamp('20150617')\n",
    "tail = pd.Timestamp('20150618')\n",
    "site.get_data(sensortype='electricity', head=head,tail=tail).plot()"
   ]
  },
  {
   "cell_type": "markdown",
   "metadata": {},
   "source": [
    "##Device"
   ]
  },
  {
   "cell_type": "code",
   "execution_count": 31,
   "metadata": {
    "collapsed": false
   },
   "outputs": [
    {
     "data": {
      "text/plain": [
       "\n",
       "    Fluksometer\n",
       "    Key: FL03001552\n",
       "    6 sensors\n",
       "    "
      ]
     },
     "execution_count": 31,
     "metadata": {},
     "output_type": "execute_result"
    }
   ],
   "source": [
    "device = hp.find_device('FL03001552')\n",
    "device"
   ]
  },
  {
   "cell_type": "code",
   "execution_count": 32,
   "metadata": {
    "collapsed": false
   },
   "outputs": [
    {
     "data": {
      "text/plain": [
       "'FL03001552'"
      ]
     },
     "execution_count": 32,
     "metadata": {},
     "output_type": "execute_result"
    }
   ],
   "source": [
    "device.key"
   ]
  },
  {
   "cell_type": "code",
   "execution_count": 33,
   "metadata": {
    "collapsed": false
   },
   "outputs": [
    {
     "data": {
      "text/plain": [
       "[\n",
       "     Fluksosensor\n",
       "     Key: a6028457292f1866b468b63adcc82ee3\n",
       "     Type: gas\n",
       "     , \n",
       "     Fluksosensor\n",
       "     Key: 29ba25498c657eda0cdd34bf22d3f9e4\n",
       "     Type: gas\n",
       "     ]"
      ]
     },
     "execution_count": 33,
     "metadata": {},
     "output_type": "execute_result"
    }
   ],
   "source": [
    "device.get_sensors('gas')"
   ]
  },
  {
   "cell_type": "code",
   "execution_count": 34,
   "metadata": {
    "collapsed": false
   },
   "outputs": [
    {
     "data": {
      "text/plain": [
       "<matplotlib.axes._subplots.AxesSubplot at 0x1095b38d0>"
      ]
     },
     "execution_count": 34,
     "metadata": {},
     "output_type": "execute_result"
    },
    {
     "data": {
      "image/png": "[encoded data removed]",
      "text/plain": [
       "<matplotlib.figure.Figure at 0x1095b0b50>"
      ]
     },
     "metadata": {},
     "output_type": "display_data"
    }
   ],
   "source": [
    "head = pd.Timestamp('20150617')\n",
    "tail = pd.Timestamp('20150618')\n",
    "device.get_data(sensortype='electricity', head=head,tail=tail).plot()"
   ]
  },
  {
   "cell_type": "markdown",
   "metadata": {},
   "source": [
    "##Sensor"
   ]
  },
  {
   "cell_type": "code",
   "execution_count": 35,
   "metadata": {
    "collapsed": false
   },
   "outputs": [
    {
     "data": {
      "text/plain": [
       "\n",
       "    Fluksosensor\n",
       "    Key: 53b1eb0479c83dee927fff10b0cb0fe6\n",
       "    Type: electricity\n",
       "    "
      ]
     },
     "execution_count": 35,
     "metadata": {},
     "output_type": "execute_result"
    }
   ],
   "source": [
    "sensor = hp.find_sensor('53b1eb0479c83dee927fff10b0cb0fe6')\n",
    "sensor"
   ]
  },
  {
   "cell_type": "code",
   "execution_count": 36,
   "metadata": {
    "collapsed": false
   },
   "outputs": [
    {
     "data": {
      "text/plain": [
       "'53b1eb0479c83dee927fff10b0cb0fe6'"
      ]
     },
     "execution_count": 36,
     "metadata": {},
     "output_type": "execute_result"
    }
   ],
   "source": [
    "sensor.key"
   ]
  },
  {
   "cell_type": "code",
   "execution_count": 37,
   "metadata": {
    "collapsed": false
   },
   "outputs": [
    {
     "data": {
      "text/plain": [
       "'electricity'"
      ]
     },
     "execution_count": 37,
     "metadata": {},
     "output_type": "execute_result"
    }
   ],
   "source": [
    "sensor.type"
   ]
  },
  {
   "cell_type": "code",
   "execution_count": 38,
   "metadata": {
    "collapsed": false
   },
   "outputs": [
    {
     "data": {
      "text/plain": [
       "'Main'"
      ]
     },
     "execution_count": 38,
     "metadata": {},
     "output_type": "execute_result"
    }
   ],
   "source": [
    "sensor.description"
   ]
  },
  {
   "cell_type": "code",
   "execution_count": 39,
   "metadata": {
    "collapsed": false
   },
   "outputs": [
    {
     "data": {
      "text/plain": [
       "'grid'"
      ]
     },
     "execution_count": 39,
     "metadata": {},
     "output_type": "execute_result"
    }
   ],
   "source": [
    "sensor.system"
   ]
  },
  {
   "cell_type": "code",
   "execution_count": 40,
   "metadata": {
    "collapsed": false
   },
   "outputs": [
    {
     "data": {
      "text/plain": [
       "'Wh'"
      ]
     },
     "execution_count": 40,
     "metadata": {},
     "output_type": "execute_result"
    }
   ],
   "source": [
    "sensor.unit"
   ]
  },
  {
   "cell_type": "code",
   "execution_count": 41,
   "metadata": {
    "collapsed": false
   },
   "outputs": [
    {
     "data": {
      "text/plain": [
       "<matplotlib.axes._subplots.AxesSubplot at 0x11332fd10>"
      ]
     },
     "execution_count": 41,
     "metadata": {},
     "output_type": "execute_result"
    },
    {
     "data": {
      "image/png": "[encoded data removed]",
      "text/plain": [
       "<matplotlib.figure.Figure at 0x1095bb790>"
      ]
     },
     "metadata": {},
     "output_type": "display_data"
    }
   ],
   "source": [
    "head = pd.Timestamp('20150617')\n",
    "tail = pd.Timestamp('20150618')\n",
    "sensor.get_data(head,tail).plot()"
   ]
  },
  {
   "cell_type": "code",
   "execution_count": null,
   "metadata": {
    "collapsed": true
   },
   "outputs": [],
   "source": []
  }
 ],
 "metadata": {
  "kernelspec": {
   "display_name": "Python 2",
   "language": "python",
   "name": "python2"
  },
  "language_info": {
   "codemirror_mode": {
    "name": "ipython",
    "version": 2
   },
   "file_extension": ".py",
   "mimetype": "text/x-python",
   "name": "python",
   "nbconvert_exporter": "python",
   "pygments_lexer": "ipython2",
   "version": "2.7.6"
  }
 },
 "nbformat": 4,
 "nbformat_minor": 0
}
