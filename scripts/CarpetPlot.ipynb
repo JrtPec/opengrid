{
 "metadata": {
  "name": "",
  "signature": "sha256:974f4df22ed1cc1aaed0ad19fea5989d3700886b1eeec2ce611eb96e88638284"
 },
 "nbformat": 3,
 "nbformat_minor": 0,
 "worksheets": [
  {
   "cells": [
    {
     "cell_type": "markdown",
     "metadata": {},
     "source": [
      "## This script shows the visualization of electricity, water and gas consumption using carpet plots\n",
      "\n",
      "To get started, first run the 'Synchronize data' script\n",
      "\n",
      "#### Imports and paths"
     ]
    },
    {
     "cell_type": "code",
     "collapsed": false,
     "input": [
      "import os, sys\n",
      "import pytz\n",
      "import inspect\n",
      "import numpy as np\n",
      "import pandas as pd\n",
      "import datetime as dt\n",
      "import matplotlib.pyplot as plt\n",
      "\n",
      "script_dir = os.path.dirname(os.path.abspath(inspect.getfile(inspect.currentframe())))\n",
      "# add the path to opengrid to sys.path\n",
      "sys.path.append(os.path.join(script_dir, os.pardir, os.pardir))\n",
      "from opengrid.library import config, houseprint, fluksoapi, plotting\n",
      "c=config.Config()\n",
      "\n",
      "# find tmpo\n",
      "sys.path.append(c.get('tmpo', 'folder'))\n",
      "import tmpo\n",
      "\n",
      "%matplotlib inline\n",
      "plt.rcParams['figure.figsize'] = 16,8\n",
      "\n",
      "# path to data\n",
      "path_to_data = c.get('data', 'folder')\n",
      "if not os.path.exists(path_to_data):\n",
      "    raise IOError(\"Provide your path to the data in your config.ini file.  This is a folder containing a 'zip' and 'csv' subfolder.\")\n",
      "else:\n",
      "    path_to_csv = os.path.join(path_to_data, 'csv')\n",
      "    path_to_fig = os.path.join(path_to_data, 'figures')\n",
      "    if not os.path.isdir(path_to_fig): os.makedirs(path_to_fig)"
     ],
     "language": "python",
     "metadata": {},
     "outputs": []
    },
    {
     "cell_type": "markdown",
     "metadata": {},
     "source": [
      "### Loading meta data and user variables"
     ]
    },
    {
     "cell_type": "code",
     "collapsed": false,
     "input": [
      "hp = houseprint.load_houseprint_from_file('hp_anonymous.pkl')\n",
      "\n",
      "#set start date\n",
      "number_of_days = 30\n",
      "end = dt.datetime.utcnow().replace(tzinfo=pytz.utc)\n",
      "start = end - dt.timedelta(days=30)"
     ],
     "language": "python",
     "metadata": {},
     "outputs": []
    },
    {
     "cell_type": "markdown",
     "metadata": {},
     "source": [
      "### Loading using the CSV files"
     ]
    },
    {
     "cell_type": "code",
     "collapsed": false,
     "input": [
      "sensors = hp.get_sensors()\n",
      "df = fluksoapi.load(path_to_csv, sensors, start)"
     ],
     "language": "python",
     "metadata": {},
     "outputs": []
    },
    {
     "cell_type": "markdown",
     "metadata": {},
     "source": [
      "## Plots\n",
      "\n",
      "### Water sensors"
     ]
    },
    {
     "cell_type": "code",
     "collapsed": false,
     "input": [
      "water_sensors = set(df.columns) & set(hp.get_sensors_by_type('water'))\n",
      "print \"{} water sensors\".format(len(water_sensors))\n",
      "for sensor in water_sensors:\n",
      "    flukso_id=hp.get_flukso_from_sensor(sensor)\n",
      "    plotting.carpet(df[sensor]/24., title=flukso_id, zlabel=r'Flow [l/hour]')\n",
      "    plt.savefig(os.path.join(path_to_fig, 'carpet_water_'+flukso_id+'_'+sensor), dpi=100)"
     ],
     "language": "python",
     "metadata": {},
     "outputs": []
    },
    {
     "cell_type": "markdown",
     "metadata": {},
     "source": [
      "### Gas sensors"
     ]
    },
    {
     "cell_type": "code",
     "collapsed": false,
     "input": [
      "gas_sensors = set(df.columns) & set(hp.get_sensors_by_type('gas'))\n",
      "print \"{} gas sensors\".format(len(gas_sensors))\n",
      "for sensor in gas_sensors:\n",
      "    flukso_id=hp.get_flukso_from_sensor(sensor)\n",
      "    plotting.carpet(df[sensor]/24., title=flukso_id, zlabel=r'Flow [l/hour]')\n",
      "    plt.savefig(os.path.join(path_to_fig, 'carpet_gas_'+flukso_id+'_'+sensor), dpi=100)"
     ],
     "language": "python",
     "metadata": {},
     "outputs": []
    },
    {
     "cell_type": "markdown",
     "metadata": {},
     "source": [
      "### Electricity sensors"
     ]
    },
    {
     "cell_type": "code",
     "collapsed": false,
     "input": [
      "elec_sensors = set(df.columns) & set(hp.get_sensors_by_type('electricity'))\n",
      "print \"{} electricity sensors\".format(len(elec_sensors))\n",
      "for sensor in elec_sensors:\n",
      "    flukso_id=hp.get_flukso_from_sensor(sensor)\n",
      "    plotting.carpet(df[sensor], title=flukso_id, zlabel=r'Power [W]')\n",
      "    plt.savefig(os.path.join(path_to_fig, 'carpet_elec_'+flukso_id+'_'+sensor), dpi=100)"
     ],
     "language": "python",
     "metadata": {},
     "outputs": []
    },
    {
     "cell_type": "markdown",
     "metadata": {},
     "source": [
      "## Now the same using tmpo"
     ]
    },
    {
     "cell_type": "code",
     "collapsed": false,
     "input": [
      "tmpos = tmpo.Session(path_to_data)\n",
      "tmpo_sensors = [sid for (sid,) in tmpos.dbcur.execute(tmpo.SQL_SENSOR_ALL)]"
     ],
     "language": "python",
     "metadata": {},
     "outputs": []
    },
    {
     "cell_type": "code",
     "collapsed": false,
     "input": [
      "def dif_interp(ts, freq='min', start=None, end=None):\n",
      "    \"\"\"\n",
      "    Return a fixed frequency discrete difference time series from an unevenly spaced cumulative time series\n",
      "    \"\"\"\n",
      "    if ts.empty and (start is None or end is None):\n",
      "        return ts\n",
      "    start = start or ts.index[0]\n",
      "    start = start.replace(tzinfo=pytz.utc)\n",
      "    end = end or max(start, ts.index[-1])\n",
      "    end = end.replace(tzinfo=pytz.utc)\n",
      "    start = min(start, end)\n",
      "    newindex = pd.DataFrame([0, 0], index=[start, end]).resample(freq).index\n",
      "    if ts.dropna().empty:\n",
      "        tsmin = ts.reindex(newindex)\n",
      "    else:\n",
      "        tsmin = ts.reindex(ts.index + newindex)\n",
      "        tsmin = tsmin.interpolate(method='time')\n",
      "        tsmin = tsmin.reindex(newindex)\n",
      "    return tsmin.diff()*3600/60"
     ],
     "language": "python",
     "metadata": {},
     "outputs": []
    },
    {
     "cell_type": "markdown",
     "metadata": {},
     "source": [
      "### Water sensors"
     ]
    },
    {
     "cell_type": "code",
     "collapsed": false,
     "input": [
      "water_sensors = set(tmpo_sensors) & set(hp.get_sensors_by_type('water'))\n",
      "print \"{} water sensors\".format(len(water_sensors))"
     ],
     "language": "python",
     "metadata": {},
     "outputs": []
    },
    {
     "cell_type": "code",
     "collapsed": false,
     "input": [
      "for sensor in water_sensors:\n",
      "    flukso_id=hp.get_flukso_from_sensor(sensor)\n",
      "    tscum = tmpos.series(sensor)\n",
      "    ts = dif_interp(tscum, start=start, end=end)\n",
      "    if not ts.dropna().empty:\n",
      "        plotting.carpet(ts, title=flukso_id, zlabel=r'Flow [l/hour]')\n",
      "        plt.savefig(os.path.join(path_to_fig, 'carpet_water_'+flukso_id+'_tmpo_'+sensor), dpi=100)"
     ],
     "language": "python",
     "metadata": {},
     "outputs": []
    },
    {
     "cell_type": "markdown",
     "metadata": {},
     "source": [
      "### Gas sensors"
     ]
    },
    {
     "cell_type": "code",
     "collapsed": false,
     "input": [
      "gas_sensors = set(tmpo_sensors) & set(hp.get_sensors_by_type('gas'))\n",
      "print \"{} gas sensors\".format(len(gas_sensors))"
     ],
     "language": "python",
     "metadata": {},
     "outputs": []
    },
    {
     "cell_type": "code",
     "collapsed": false,
     "input": [
      "for sensor in gas_sensors:\n",
      "    flukso_id=hp.get_flukso_from_sensor(sensor)\n",
      "    tscum = tmpos.series(sensor)\n",
      "    ts = dif_interp(tscum, start=start, end=end)\n",
      "    if not ts.dropna().empty:\n",
      "        plotting.carpet(ts, title=flukso_id, zlabel=r'Flow [l/hour]')\n",
      "        plt.savefig(os.path.join(path_to_fig, 'carpet_gas_'+flukso_id+'_tmpo_'+sensor), dpi=100)"
     ],
     "language": "python",
     "metadata": {},
     "outputs": []
    },
    {
     "cell_type": "markdown",
     "metadata": {},
     "source": [
      "### Electricity sensors"
     ]
    },
    {
     "cell_type": "code",
     "collapsed": false,
     "input": [
      "elec_sensors = set(tmpo_sensors) & set(hp.get_sensors_by_type('electricity'))\n",
      "print \"{} electricity sensors\".format(len(elec_sensors))"
     ],
     "language": "python",
     "metadata": {},
     "outputs": []
    },
    {
     "cell_type": "code",
     "collapsed": false,
     "input": [
      "for sensor in elec_sensors:\n",
      "    flukso_id=hp.get_flukso_from_sensor(sensor)\n",
      "    try:\n",
      "        #The following returns an error for some of the sensors\n",
      "        tscum = tmpos.series(sensor)\n",
      "    except:\n",
      "        print \"Did not work with sid {}\".format(sensor)\n",
      "    else:\n",
      "        ts = dif_interp(tscum, start=start, end=end)\n",
      "        if not ts.dropna().empty:\n",
      "            plotting.carpet(ts, title=flukso_id, zlabel=r'Power [W]')\n",
      "            plt.savefig(os.path.join(path_to_fig, 'carpet_elec_'+flukso_id+'_tmpo_'+sensor), dpi=100)"
     ],
     "language": "python",
     "metadata": {},
     "outputs": []
    },
    {
     "cell_type": "code",
     "collapsed": false,
     "input": [],
     "language": "python",
     "metadata": {},
     "outputs": []
    }
   ],
   "metadata": {}
  }
 ]
}