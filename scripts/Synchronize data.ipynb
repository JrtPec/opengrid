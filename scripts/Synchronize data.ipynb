{
 "metadata": {
  "name": "",
  "signature": "sha256:a93084136bd3536149c346a56fa4726defee88c728fa8bdf9a12ce8de819ab4f"
 },
 "nbformat": 3,
 "nbformat_minor": 0,
 "worksheets": [
  {
   "cells": [
    {
     "cell_type": "markdown",
     "metadata": {},
     "source": [
      "# Synchronize the opengrid data to your computer.  \n",
      "\n",
      "There are two different solutions.  \n",
      "\n",
      "1. The first approach is based on the **tmpo data format** and uses a local database. This approach is more elegant, but does not cover historic data from before 23rd of October 2014.\n",
      "2. The second is based on **csv files** that are stored on the opengrid webserver.  These csv files are extracted from the flukso webserver and stored as a zip file per day.  This script will only download missing files and convert all the data into a single csv per sensor. This approach covers all possible opengrid data as for now.\n"
     ]
    },
    {
     "cell_type": "code",
     "collapsed": false,
     "input": [
      "import os, sys\n",
      "import inspect\n",
      "\n",
      "# Obtain path of the opengrid codebase and import opengrid libraries\n",
      "script_dir = os.path.dirname(os.path.abspath(inspect.getfile(inspect.currentframe())))\n",
      "sys.path.append(os.path.join(script_dir, os.pardir, os.pardir))\n",
      "from opengrid.library import fluksoapi\n",
      "from opengrid.library import config\n",
      "c = config.Config()"
     ],
     "language": "python",
     "metadata": {},
     "outputs": []
    },
    {
     "cell_type": "markdown",
     "metadata": {},
     "source": [
      "## TMPO-based synchronization"
     ]
    },
    {
     "cell_type": "code",
     "collapsed": false,
     "input": [
      "from opengrid.library import houseprint\n",
      "sys.path.append(c.get('tmpo', 'folder'))\n",
      "import tmpo"
     ],
     "language": "python",
     "metadata": {},
     "outputs": []
    },
    {
     "cell_type": "markdown",
     "metadata": {},
     "source": [
      "Run the cell below if you want to obtain the very last houseprint information"
     ]
    },
    {
     "cell_type": "code",
     "collapsed": false,
     "input": [
      "%run cache_anonymous_houseprint.py"
     ],
     "language": "python",
     "metadata": {},
     "outputs": []
    },
    {
     "cell_type": "markdown",
     "metadata": {},
     "source": [
      "Create a tmpo session and load the houseprint"
     ]
    },
    {
     "cell_type": "code",
     "collapsed": false,
     "input": [
      "tmpos = tmpo.Session()\n",
      "tmpos.debug = True\n",
      "hp = houseprint.load_houseprint_from_file('hp_anonymous.pkl')"
     ],
     "language": "python",
     "metadata": {},
     "outputs": []
    },
    {
     "cell_type": "markdown",
     "metadata": {},
     "source": [
      "Make sure all known sensors of the houseprint are added to the tmpo database.  Then synchronize all data up to now."
     ]
    },
    {
     "cell_type": "code",
     "collapsed": false,
     "input": [
      "tmpos = fluksoapi.update_tmpo(tmposession = tmpos, hp=hp)"
     ],
     "language": "python",
     "metadata": {},
     "outputs": []
    },
    {
     "cell_type": "code",
     "collapsed": false,
     "input": [
      "tmpos.sync()"
     ],
     "language": "python",
     "metadata": {},
     "outputs": []
    },
    {
     "cell_type": "markdown",
     "metadata": {},
     "source": [
      "## CSV-based synchronization"
     ]
    },
    {
     "cell_type": "code",
     "collapsed": false,
     "input": [
      "# path to data is stored in opengrid.cfg.\n",
      "# This synchronization can take a while...\n",
      "fluksoapi.synchronize(c.get('data', 'folder'))\n",
      "# see the other notebooks on how to import the data and start analysing."
     ],
     "language": "python",
     "metadata": {},
     "outputs": []
    },
    {
     "cell_type": "code",
     "collapsed": false,
     "input": [
      "#fluksoapi._unzip(folder=c.get('data','folder'))"
     ],
     "language": "python",
     "metadata": {},
     "outputs": []
    },
    {
     "cell_type": "code",
     "collapsed": false,
     "input": [],
     "language": "python",
     "metadata": {},
     "outputs": []
    },
    {
     "cell_type": "code",
     "collapsed": false,
     "input": [],
     "language": "python",
     "metadata": {},
     "outputs": []
    }
   ],
   "metadata": {}
  }
 ]
}