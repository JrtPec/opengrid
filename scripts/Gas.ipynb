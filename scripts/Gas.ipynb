{
 "metadata": {
  "name": "",
  "signature": "sha256:f46fb1df33a5ef5f008972efc9bd427fef867a24d4861dd0a10d5ab815f98bb3"
 },
 "nbformat": 3,
 "nbformat_minor": 0,
 "worksheets": [
  {
   "cells": [
    {
     "cell_type": "markdown",
     "metadata": {},
     "source": [
      "### This script shows how to use the existing code in opengrid to create a baseload electricity consumption benchmark. "
     ]
    },
    {
     "cell_type": "code",
     "collapsed": false,
     "input": [
      "import os, sys\n",
      "import inspect\n",
      "import numpy as np\n",
      "import matplotlib.pyplot as plt\n",
      "from matplotlib.dates import HourLocator, DateFormatter, AutoDateLocator\n",
      "import datetime as dt\n",
      "import pytz\n",
      "import pandas as pd\n",
      "import pdb\n",
      "script_dir = os.path.dirname(os.path.abspath(inspect.getfile(inspect.currentframe())))\n",
      "# add the path to opengrid to sys.path\n",
      "sys.path.append(os.path.join(script_dir, os.pardir, os.pardir))\n",
      "from opengrid.library import config\n",
      "from opengrid.library import houseprint\n",
      "from opengrid.library import fluksoapi\n",
      "c = config.Config()\n",
      "\n",
      "\n",
      "%matplotlib inline\n",
      "plt.rcParams['figure.figsize']=14,8"
     ],
     "language": "python",
     "metadata": {},
     "outputs": []
    },
    {
     "cell_type": "markdown",
     "metadata": {},
     "source": [
      "### Script settings"
     ]
    },
    {
     "cell_type": "code",
     "collapsed": false,
     "input": [
      "path_to_data = c.get('data', 'folder')\n",
      "#path_to_data = 'SET_CUSTOM_PATH_HERE'\n",
      "\n",
      "if not os.path.exists(path_to_data):\n",
      "    raise IOError(\"Provide your path to the data.  This is a folder containing a 'zip' and 'csv' subfolder.\")\n",
      "else:\n",
      "    path_to_csv = os.path.join(path_to_data, 'csv')\n",
      "    #fluksoapi.synchronize()\n",
      "#fluksoapi.consolidate_folder(path_to_csv)\n",
      "\n"
     ],
     "language": "python",
     "metadata": {},
     "outputs": []
    },
    {
     "cell_type": "markdown",
     "metadata": {},
     "source": [
      "### We create one big dataframe, the columns are the sensors of type *gas*"
     ]
    },
    {
     "cell_type": "code",
     "collapsed": false,
     "input": [
      "hp = houseprint.load_houseprint_from_file('hp_anonymous.pkl')"
     ],
     "language": "python",
     "metadata": {},
     "outputs": []
    },
    {
     "cell_type": "code",
     "collapsed": false,
     "input": [
      "utility = 'gas'\n",
      "sensors = hp.get_sensors_by_type(utility)\n",
      "df = fluksoapi.load(path_to_csv, sensors)"
     ],
     "language": "python",
     "metadata": {},
     "outputs": []
    },
    {
     "cell_type": "code",
     "collapsed": false,
     "input": [
      "# plot timeseries and load duration for each retained sensor\n",
      "for sensor in df.columns:\n",
      "    plt.figure()\n",
      "    ax1=plt.subplot(121)\n",
      "    plt.plot_date(df.index, df[sensor], '-', label=sensor)\n",
      "    plt.ylabel('kW')\n",
      "    plt.legend()\n",
      "    \n",
      "    ax2=plt.subplot(122)\n",
      "    plt.plot(np.sort(df[sensor])[::-1], label=sensor)\n",
      "    plt.ylabel('kW')\n",
      "    plt.legend()"
     ],
     "language": "python",
     "metadata": {},
     "outputs": []
    },
    {
     "cell_type": "code",
     "collapsed": false,
     "input": [],
     "language": "python",
     "metadata": {},
     "outputs": []
    }
   ],
   "metadata": {}
  }
 ]
}