{
 "cells": [
  {
   "cell_type": "markdown",
   "metadata": {},
   "source": [
    "#Class Definitions"
   ]
  },
  {
   "cell_type": "code",
   "execution_count": null,
   "metadata": {
    "collapsed": false
   },
   "outputs": [],
   "source": [
    "import iso8601\n",
    "\n",
    "class Dossier(object):\n",
    "    \"\"\"\n",
    "        The Dossier object is designed to contain all metadata for a single dossier.\n",
    "        It can be initialized by passing the EnergyID metadata json to the constructor,\n",
    "        or by calling the parse_EID_json method.\n",
    "        Parsing the JSON is optional and put in a seperate method so there is room\n",
    "        to add other metadata formats.\n",
    "    \"\"\"\n",
    "    def __init__(self, EID_json=None):\n",
    "        \"\"\"\n",
    "            Object constructor. If the EnergyID JSON is passed, all metadata and\n",
    "            datapoints are parsed and added. It is left optional though so other methods\n",
    "            of initializing can be added in the future.\n",
    "            \n",
    "            Parameters\n",
    "            ----------\n",
    "            EID_json: JSON string from EnergyID containing all metadata for a single dossier\n",
    "        \"\"\"\n",
    "        self.points = []\n",
    "        if EID_json is not None:\n",
    "            self._parse_EID_json(EID_json)\n",
    "    \n",
    "    def _parse_EID_json(self,mjson):\n",
    "        \"\"\"\n",
    "            Method that parses the EnergyID JSON\n",
    "            \n",
    "            Parameters\n",
    "            ----------\n",
    "            mjson: JSON string from EnergyID containing all metadata for a single dossier\n",
    "        \"\"\"\n",
    "        \n",
    "        self.id = mjson['id']\n",
    "        self.version = mjson['version']\n",
    "        self.created = iso8601.parse_date(mjson['created']) #parse to datetime\n",
    "        self.active = mjson['status'] == 'active' #parse to bool\n",
    "        \n",
    "        #We save the context and weatherstation metadata as raw JSON for now.\n",
    "        self._context = mjson['context']\n",
    "        self.weatherStations = mjson['weatherStations']\n",
    "        \n",
    "        #Data Points are objects. We create a list of objects here.\n",
    "        for pjson in mjson['points']:\n",
    "            self.points.append(Point(dossier = self, EID_json = pjson))\n",
    "            \n",
    "    def get_property(self,tag):\n",
    "        \"\"\"\n",
    "            Method that parses context metadata\n",
    "            \n",
    "            Parameters\n",
    "            ----------\n",
    "            tag: String, tag of the property to be parsed\n",
    "            \n",
    "            Returns\n",
    "            -------\n",
    "            Parsed value for the given tag.\n",
    "            None if the tag was not found.\n",
    "        \"\"\"\n",
    "        try:\n",
    "            res = self._context[tag]\n",
    "        except KeyError:\n",
    "            res = None\n",
    "            \n",
    "        return res"
   ]
  },
  {
   "cell_type": "code",
   "execution_count": null,
   "metadata": {
    "collapsed": true
   },
   "outputs": [],
   "source": [
    "class Point(object):\n",
    "    \"\"\"\n",
    "        The Point object countains all metadata for a Data Point,\n",
    "        and all coupled metrics.\n",
    "    \"\"\"\n",
    "    def __init__(self, dossier, EID_json=None):\n",
    "        \"\"\"\n",
    "            Construction method. EnergyID JSON is optional so that\n",
    "            a data point can be constructed by via another method in the future.\n",
    "            \n",
    "            Parameters\n",
    "            ----------\n",
    "            dossier: Dossier object, parent to this Data Point\n",
    "            EID_json: EnergyID JSON for this data Point (optional)\n",
    "        \"\"\"\n",
    "        self.dossier = dossier\n",
    "        \n",
    "        if EID_json is not None:\n",
    "            self._parse_EID_json(EID_json)\n",
    "            \n",
    "    def _parse_EID_json(self,mjson):\n",
    "        \"\"\"\n",
    "            Parse the EnergyID JSON into metadata, metrics and dimensions\n",
    "            \n",
    "            Parameters\n",
    "            ----------\n",
    "            mjson: JSON String, EnergyID JSON for a single point\n",
    "        \"\"\"\n",
    "        self.id = mjson['id']\n",
    "        self.active = mjson['status'] == 'active' #parse to bool\n",
    "        \n",
    "        #save al other properties as raw json and parse when requested\n",
    "        self._raw_json = mjson\n",
    "        \n",
    "        #create list of coupled metrics and dimensions\n",
    "        self.metrics = [Metric(point = self, EID_json = cjson) for cjson in mjson['metrics']]\n",
    "        \n",
    "    def get_propery(self,tag):\n",
    "        \"\"\"\n",
    "            Method that parses context metadata\n",
    "            \n",
    "            Parameters\n",
    "            ----------\n",
    "            tag: String, tag of the property to be parsed\n",
    "            \n",
    "            Returns\n",
    "            -------\n",
    "            Parsed value for the given tag.\n",
    "            None if the tag was not found.\n",
    "        \"\"\"\n",
    "        try:\n",
    "            res = self._raw_json[tag]\n",
    "        except KeyError:\n",
    "            res = None\n",
    "            \n",
    "        return res"
   ]
  },
  {
   "cell_type": "code",
   "execution_count": null,
   "metadata": {
    "collapsed": true
   },
   "outputs": [],
   "source": [
    "class Metric(object):\n",
    "    \"\"\"\n",
    "        Object contains info for a metric\n",
    "    \"\"\"\n",
    "    def __init__(self, point, EID_json = None):\n",
    "        \"\"\"\n",
    "            Constructor\n",
    "            \n",
    "            Parameters\n",
    "            ----------\n",
    "            point: parent Point\n",
    "            EID_json: string\n",
    "            \n",
    "        \"\"\"\n",
    "        self.point = point\n",
    "        \n",
    "        if EID_json is not None:\n",
    "            self._parse_EID_json(EID_json)\n",
    "            \n",
    "    def _parse_EID_json(self, mjson):\n",
    "        \n",
    "        self.name = mjson['name']\n",
    "        self.coefficient = mjson['coefficient']\n",
    "        self.dimensions = [Dimension(metric = self, EID_json = cjson) for cjson in mjson['dimensions']]"
   ]
  },
  {
   "cell_type": "code",
   "execution_count": null,
   "metadata": {
    "collapsed": false
   },
   "outputs": [],
   "source": [
    "class Dimension(object):\n",
    "    \"\"\"\n",
    "        Object contains info for a dimension\n",
    "    \"\"\"\n",
    "    def __init__(self, metric, EID_json = None):\n",
    "        \"\"\"\n",
    "            Constructor\n",
    "            \n",
    "            Parameters\n",
    "            ----------\n",
    "            metric: parent\n",
    "            EID_json: string\n",
    "        \"\"\"\n",
    "        \n",
    "        self.metric = metric\n",
    "        \n",
    "        if EID_json is not None:\n",
    "            self._parse_EID_json(EID_json)\n",
    "            \n",
    "    def _parse_EID_json(self, mjson):\n",
    "        self.name = mjson['name']\n",
    "        self.value = mjson['value']"
   ]
  },
  {
   "cell_type": "markdown",
   "metadata": {},
   "source": [
    "#Parsing"
   ]
  },
  {
   "cell_type": "code",
   "execution_count": null,
   "metadata": {
    "collapsed": true
   },
   "outputs": [],
   "source": [
    "import json"
   ]
  },
  {
   "cell_type": "code",
   "execution_count": null,
   "metadata": {
    "collapsed": false
   },
   "outputs": [],
   "source": [
    "with open('metadata_eid.json') as data_file:    \n",
    "    mjson = json.load(data_file)"
   ]
  },
  {
   "cell_type": "code",
   "execution_count": null,
   "metadata": {
    "collapsed": false
   },
   "outputs": [],
   "source": [
    "d = Dossier(EID_json=mjson)"
   ]
  },
  {
   "cell_type": "code",
   "execution_count": null,
   "metadata": {
    "collapsed": false
   },
   "outputs": [],
   "source": [
    "print d.id, d.version, d.created, d.active"
   ]
  },
  {
   "cell_type": "code",
   "execution_count": null,
   "metadata": {
    "collapsed": false
   },
   "outputs": [],
   "source": [
    "d.get_property('category'), d.get_property('dwellingType')"
   ]
  },
  {
   "cell_type": "code",
   "execution_count": null,
   "metadata": {
    "collapsed": false
   },
   "outputs": [],
   "source": [
    "for w in d.weatherStations:\n",
    "    print w"
   ]
  },
  {
   "cell_type": "code",
   "execution_count": null,
   "metadata": {
    "collapsed": false
   },
   "outputs": [],
   "source": [
    "for p in d.points:\n",
    "    print p.id\n",
    "    print p.get_propery('displayName')\n",
    "    print p.metrics\n",
    "    print '\\n'"
   ]
  },
  {
   "cell_type": "code",
   "execution_count": null,
   "metadata": {
    "collapsed": false
   },
   "outputs": [],
   "source": [
    "for p in d.points:\n",
    "    for m in p.metrics:\n",
    "        print m.name, m.coefficient\n",
    "        for dim in m.dimensions:\n",
    "            print \"\\t\",\n",
    "            print dim.name, dim.value\n",
    "    print '\\n'"
   ]
  },
  {
   "cell_type": "code",
   "execution_count": null,
   "metadata": {
    "collapsed": true
   },
   "outputs": [],
   "source": []
  },
  {
   "cell_type": "code",
   "execution_count": null,
   "metadata": {
    "collapsed": true
   },
   "outputs": [],
   "source": []
  },
  {
   "cell_type": "code",
   "execution_count": null,
   "metadata": {
    "collapsed": true
   },
   "outputs": [],
   "source": []
  }
 ],
 "metadata": {
  "kernelspec": {
   "display_name": "Python 2",
   "language": "python",
   "name": "python2"
  },
  "language_info": {
   "codemirror_mode": {
    "name": "ipython",
    "version": 2
   },
   "file_extension": ".py",
   "mimetype": "text/x-python",
   "name": "python",
   "nbconvert_exporter": "python",
   "pygments_lexer": "ipython2",
   "version": "2.7.10"
  }
 },
 "nbformat": 4,
 "nbformat_minor": 0
}
