{
 "cells": [
  {
   "cell_type": "markdown",
   "metadata": {},
   "source": [
    "### This script shows how to use the existing code in opengrid to create a baseload electricity consumption benchmark. "
   ]
  },
  {
   "cell_type": "code",
   "execution_count": null,
   "metadata": {
    "collapsed": false
   },
   "outputs": [],
   "source": [
    "import os, sys\n",
    "import inspect\n",
    "import numpy as np\n",
    "\n",
    "\n",
    "import datetime as dt\n",
    "import time\n",
    "import pytz\n",
    "import pandas as pd\n",
    "import pdb\n",
    "\n",
    "script_dir = os.path.dirname(os.path.abspath(inspect.getfile(inspect.currentframe())))\n",
    "# add the path to opengrid to sys.path\n",
    "sys.path.append(os.path.join(script_dir, os.pardir, os.pardir))\n",
    "from opengrid.library import houseprint\n",
    "from opengrid.library import fluksoapi\n",
    "from opengrid.library import config\n",
    "c=config.Config()\n",
    "DEV = c.get('env', 'type') == 'dev' # DEV is True if we are in development environment, False if on the droplet\n",
    "\n",
    "if not DEV:\n",
    "    # production environment: don't try to display plots\n",
    "    import matplotlib\n",
    "    matplotlib.use('Agg')\n",
    "import matplotlib.pyplot as plt\n",
    "from matplotlib.dates import HourLocator, DateFormatter, AutoDateLocator\n",
    "\n",
    "# find tmpo\n",
    "sys.path.append(c.get('tmpo', 'folder'))\n",
    "import tmpo\n",
    "\n",
    "if DEV:\n",
    "    if c.get('env', 'plots') == 'inline':\n",
    "        %matplotlib inline\n",
    "    else:\n",
    "        %matplotlib qt\n",
    "else:\n",
    "    pass # don't try to render plots\n",
    "plt.rcParams['figure.figsize'] = 12,8\n",
    "\n",
    "import charts"
   ]
  },
  {
   "cell_type": "markdown",
   "metadata": {},
   "source": [
    "### Script settings\n"
   ]
  },
  {
   "cell_type": "code",
   "execution_count": null,
   "metadata": {
    "collapsed": false
   },
   "outputs": [],
   "source": [
    "number_of_days = 7"
   ]
  },
  {
   "cell_type": "markdown",
   "metadata": {},
   "source": [
    "### We create one big dataframe, the columns are the sensors of type *electricity*"
   ]
  },
  {
   "cell_type": "code",
   "execution_count": null,
   "metadata": {
    "collapsed": false
   },
   "outputs": [],
   "source": [
    "hp = houseprint.load_houseprint_from_file('hp_anonymous.pkl')"
   ]
  },
  {
   "cell_type": "code",
   "execution_count": null,
   "metadata": {
    "collapsed": false
   },
   "outputs": [],
   "source": [
    "start = pd.Timestamp(time.time() - number_of_days*86400, unit='s')"
   ]
  },
  {
   "cell_type": "code",
   "execution_count": null,
   "metadata": {
    "collapsed": true
   },
   "outputs": [],
   "source": [
    "tmpos = tmpo.Session()\n",
    "sensors = hp.get_sensors_by_type('electricity')\n",
    "#sensors.remove('b325dbc1a0d62c99a50609e919b9ea06')"
   ]
  },
  {
   "cell_type": "code",
   "execution_count": null,
   "metadata": {
    "collapsed": true
   },
   "outputs": [],
   "source": [
    "series = []\n",
    "for sensor in sensors:\n",
    "    s = tmpos.series(sid=sensor, head=start)\n",
    "    series.append(s.resample(rule='60s', how='max'))"
   ]
  },
  {
   "cell_type": "code",
   "execution_count": null,
   "metadata": {
    "collapsed": false
   },
   "outputs": [],
   "source": [
    "dfi = pd.concat(series, axis=1)\n",
    "dfi = dfi.interpolate(method='time')\n",
    "dfi = dfi.diff()*3600/60"
   ]
  },
  {
   "cell_type": "code",
   "execution_count": null,
   "metadata": {
    "collapsed": false
   },
   "outputs": [],
   "source": [
    "# plot a few dataframes to inspect them\n",
    "for sensor in sensors[:]:\n",
    "    try:\n",
    "        charts.plot(pd.DataFrame(dfi[sensor]), stock=True, \n",
    "                    save=os.path.join(c.get('data', 'folder'), 'figures', 'TimeSeries_'+sensor+'.html'), show=False)\n",
    "    except:\n",
    "        pass"
   ]
  },
  {
   "cell_type": "code",
   "execution_count": null,
   "metadata": {
    "collapsed": true
   },
   "outputs": [],
   "source": []
  }
 ],
 "metadata": {
  "kernelspec": {
   "display_name": "Python 2",
   "language": "python",
   "name": "python2"
  },
  "language_info": {
   "codemirror_mode": {
    "name": "ipython",
    "version": 2
   },
   "file_extension": ".py",
   "mimetype": "text/x-python",
   "name": "python",
   "nbconvert_exporter": "python",
   "pygments_lexer": "ipython2",
   "version": "2.7.8"
  }
 },
 "nbformat": 4,
 "nbformat_minor": 0
}
