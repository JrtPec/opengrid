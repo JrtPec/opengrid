{
 "cells": [
  {
   "cell_type": "markdown",
   "metadata": {},
   "source": [
    "### Demo of the interface to the opengrid houseprint info"
   ]
  },
  {
   "cell_type": "code",
   "execution_count": null,
   "metadata": {
    "collapsed": false
   },
   "outputs": [],
   "source": [
    "import os, sys\n",
    "import inspect\n",
    "\n",
    "script_dir = os.path.dirname(os.path.abspath(inspect.getfile(inspect.currentframe())))\n",
    "# add the path to opengrid to sys.path\n",
    "sys.path.append(os.path.join(script_dir, os.pardir, os.pardir))\n",
    "from opengrid.library import houseprint\n",
    "from opengrid.library import fluksoapi"
   ]
  },
  {
   "cell_type": "markdown",
   "metadata": {},
   "source": [
    "We create a *Houseprint* object by loading the anonymised info from the file *hp_anonymous.pkl*.  This file is in the *scripts* folder of the opengrid source code.  If you don't have this file, you can automatically create it by running the python script *cache_anonymous_houseprint.py*.  Alternatively, you can download a copy of this file from our private opengrid webserver. "
   ]
  },
  {
   "cell_type": "code",
   "execution_count": null,
   "metadata": {
    "collapsed": false
   },
   "outputs": [],
   "source": [
    "%run cache_anonymous_houseprint.py"
   ]
  },
  {
   "cell_type": "code",
   "execution_count": null,
   "metadata": {
    "collapsed": false
   },
   "outputs": [],
   "source": [
    "hp = houseprint.load_houseprint_from_file('hp_anonymous.pkl')"
   ]
  },
  {
   "cell_type": "markdown",
   "metadata": {},
   "source": [
    "The *fluksosensors* attribute is a dictionary with the fluksometer id's of all opengrid participants as keys, and all the associated sensors as values."
   ]
  },
  {
   "cell_type": "code",
   "execution_count": 7,
   "metadata": {
    "collapsed": false
   },
   "outputs": [
    {
     "data": {
      "text/plain": [
       "['FL02000678',\n",
       " 'FL03001441\\n',\n",
       " 'FL03001525',\n",
       " 'FL03001561',\n",
       " 'FL03001560',\n",
       " 'FL03001566',\n",
       " 'FL03001572',\n",
       " 'FL03001549',\n",
       " 'FL03001251',\n",
       " 'FL02000628',\n",
       " 'FL02000449',\n",
       " 'FL03001570',\n",
       " 'FL03001552',\n",
       " 'FL03001553',\n",
       " 'FL03001550',\n",
       " 'FL03001577',\n",
       " 'FL03001556',\n",
       " 'FL03001557',\n",
       " 'FL03001554',\n",
       " 'FL03001573',\n",
       " 'FL03001578',\n",
       " 'FL03001579']"
      ]
     },
     "execution_count": 7,
     "metadata": {},
     "output_type": "execute_result"
    }
   ],
   "source": [
    "hp.fluksosensors.keys()"
   ]
  },
  {
   "cell_type": "markdown",
   "metadata": {},
   "source": [
    "You can get the details of a given fluksometer by normal dictionary lookup:"
   ]
  },
  {
   "cell_type": "code",
   "execution_count": null,
   "metadata": {
    "collapsed": false
   },
   "outputs": [],
   "source": [
    "hp.fluksosensors['FL03001556']"
   ]
  },
  {
   "cell_type": "markdown",
   "metadata": {},
   "source": [
    "There is also a method to get all sensors of a given type (*electricity, water or gas*)"
   ]
  },
  {
   "cell_type": "code",
   "execution_count": null,
   "metadata": {
    "collapsed": false
   },
   "outputs": [],
   "source": [
    "hp.get_sensors_by_type('electricity')"
   ]
  },
  {
   "cell_type": "markdown",
   "metadata": {},
   "source": [
    "You can checkout the other methods of a houseprint object by typing hp. and then using tab completing.  Also, typing help(hp) will give you an overview of all available (public) methods."
   ]
  },
  {
   "cell_type": "code",
   "execution_count": null,
   "metadata": {
    "collapsed": false
   },
   "outputs": [],
   "source": [
    "help(hp)"
   ]
  },
  {
   "cell_type": "code",
   "execution_count": null,
   "metadata": {
    "collapsed": false
   },
   "outputs": [],
   "source": []
  }
 ],
 "metadata": {
  "kernelspec": {
   "display_name": "Python 2",
   "language": "python",
   "name": "python2"
  },
  "language_info": {
   "codemirror_mode": {
    "name": "ipython",
    "version": 2
   },
   "file_extension": ".py",
   "mimetype": "text/x-python",
   "name": "python",
   "nbconvert_exporter": "python",
   "pygments_lexer": "ipython2",
   "version": "2.7.8"
  }
 },
 "nbformat": 4,
 "nbformat_minor": 0
}
